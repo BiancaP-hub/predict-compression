{
 "cells": [
  {
   "cell_type": "code",
   "execution_count": 1,
   "metadata": {},
   "outputs": [
    {
     "name": "stderr",
     "output_type": "stream",
     "text": [
      "2023-11-14 14:25:13.815525: I tensorflow/tsl/cuda/cudart_stub.cc:28] Could not find cuda drivers on your machine, GPU will not be used.\n",
      "2023-11-14 14:25:13.837241: E tensorflow/compiler/xla/stream_executor/cuda/cuda_dnn.cc:9342] Unable to register cuDNN factory: Attempting to register factory for plugin cuDNN when one has already been registered\n",
      "2023-11-14 14:25:13.837274: E tensorflow/compiler/xla/stream_executor/cuda/cuda_fft.cc:609] Unable to register cuFFT factory: Attempting to register factory for plugin cuFFT when one has already been registered\n",
      "2023-11-14 14:25:13.837288: E tensorflow/compiler/xla/stream_executor/cuda/cuda_blas.cc:1518] Unable to register cuBLAS factory: Attempting to register factory for plugin cuBLAS when one has already been registered\n",
      "2023-11-14 14:25:13.841501: I tensorflow/tsl/cuda/cudart_stub.cc:28] Could not find cuda drivers on your machine, GPU will not be used.\n",
      "2023-11-14 14:25:13.841948: I tensorflow/core/platform/cpu_feature_guard.cc:182] This TensorFlow binary is optimized to use available CPU instructions in performance-critical operations.\n",
      "To enable the following instructions: AVX2 FMA, in other operations, rebuild TensorFlow with the appropriate compiler flags.\n",
      "2023-11-14 14:25:14.440569: W tensorflow/compiler/tf2tensorrt/utils/py_utils.cc:38] TF-TRT Warning: Could not find TensorRT\n"
     ]
    }
   ],
   "source": [
    "from models import define_model\n",
    "from prepare_data import preprocess_data, split_patient_data_vert_level\n",
    "from sklearn.model_selection import KFold\n",
    "from constants import DATA_DIR, MODEL_TYPES, MSCC_LABELS\n",
    "from utils import extract_patient_id\n",
    "from evaluate_models import bootstrap_confidence_interval\n",
    "from sklearn.metrics import mean_squared_error\n",
    "import pandas as pd\n",
    "import numpy as np\n",
    "import tensorflow as tf\n",
    "from tensorflow.keras.callbacks import EarlyStopping"
   ]
  },
  {
   "cell_type": "code",
   "execution_count": 2,
   "metadata": {},
   "outputs": [
    {
     "name": "stdout",
     "output_type": "stream",
     "text": [
      "Num GPUs Available:  0\n"
     ]
    },
    {
     "name": "stderr",
     "output_type": "stream",
     "text": [
      "2023-11-14 14:25:15.388519: I tensorflow/compiler/xla/stream_executor/cuda/cuda_gpu_executor.cc:880] could not open file to read NUMA node: /sys/bus/pci/devices/0000:2b:00.0/numa_node\n",
      "Your kernel may have been built without NUMA support.\n",
      "2023-11-14 14:25:15.388697: W tensorflow/core/common_runtime/gpu/gpu_device.cc:2211] Cannot dlopen some GPU libraries. Please make sure the missing libraries mentioned above are installed properly if you would like to use GPU. Follow the guide at https://www.tensorflow.org/install/gpu for how to download and setup the required libraries for your platform.\n",
      "Skipping registering GPU devices...\n"
     ]
    }
   ],
   "source": [
    "print(\"Num GPUs Available: \", len(tf.config.experimental.list_physical_devices('GPU')))"
   ]
  },
  {
   "cell_type": "code",
   "execution_count": 3,
   "metadata": {},
   "outputs": [],
   "source": [
    "# Load mscc values as pandas dataframe from generated_data/ap_ratio_norm_PAM50.csv\n",
    "ap_ratio_df = pd.read_csv(MSCC_LABELS, delimiter=',')\n",
    "\n",
    "# Apply the function to each filename in the column\n",
    "patients = ap_ratio_df['filename'].apply(extract_patient_id).unique()\n",
    "\n",
    "data_splits = []  # List to store the split data and corresponding labels\n",
    "\n",
    "for patient in patients:\n",
    "    # Load metrics file\n",
    "    metrics_file = f\"{DATA_DIR}/{patient}.csv\"\n",
    "    metrics_df = pd.read_csv(metrics_file, delimiter=',')\n",
    "\n",
    "    # Split the data\n",
    "    split_data_vert_level = split_patient_data_vert_level(patient, ap_ratio_df, metrics_df)\n",
    "\n",
    "    # For each split, find the corresponding label\n",
    "    for split_df in split_data_vert_level:\n",
    "        # Get the VertLevel range of the split\n",
    "        min_vert_level = split_df['VertLevel'].min()\n",
    "        max_vert_level = split_df['VertLevel'].max()\n",
    "\n",
    "        # Find the corresponding label in ap_ratio_df\n",
    "        label = ap_ratio_df[(ap_ratio_df['compression_level'] >= min_vert_level) &\n",
    "                            (ap_ratio_df['compression_level'] <= max_vert_level) &\n",
    "                            (ap_ratio_df['filename'].str.contains(patient))]['diameter_AP_ratio_PAM50_normalized']\n",
    "\n",
    "        # Store the split data and label\n",
    "        data_splits.append((split_df, label.tolist()))"
   ]
  },
  {
   "cell_type": "code",
   "execution_count": 8,
   "metadata": {},
   "outputs": [
    {
     "name": "stdout",
     "output_type": "stream",
     "text": [
      "Currently training gradient_boosting...\n",
      "X_train shape: (76, 4518)\n",
      "X_test shape: (20, 4518)\n",
      "y_train shape: 76\n",
      "y_test shape: 20\n",
      "Training for fold 1 ...\n",
      "Fold 1 MSE: 34.569775910352035\n",
      "95% Confidence Interval for fold 1: (15.5396, 60.2733)\n",
      "===================================\n",
      "Training for fold 2 ...\n",
      "Fold 2 MSE: 391.9664736010367\n",
      "95% Confidence Interval for fold 2: (27.6575, 1037.9814)\n",
      "===================================\n",
      "Training for fold 3 ...\n",
      "Fold 3 MSE: 464.45886957518\n",
      "95% Confidence Interval for fold 3: (50.8445, 1207.1641)\n",
      "===================================\n",
      "Training for fold 4 ...\n",
      "Fold 4 MSE: 28.477393944719935\n",
      "95% Confidence Interval for fold 4: (16.1616, 44.2536)\n",
      "===================================\n",
      "Training for fold 5 ...\n",
      "Fold 5 MSE: 44.900843320851195\n",
      "95% Confidence Interval for fold 5: (24.3515, 63.9560)\n",
      "===================================\n",
      "Average MSE for gradient_boosting: 192.874671270428\n",
      "===================================\n",
      "95% Confidence Interval for gradient_boosting: (26.9109, 482.7257)\n",
      "===================================\n"
     ]
    }
   ],
   "source": [
    "# Define K-Fold Cross Validator\n",
    "kfold = KFold(n_splits=5, shuffle=True, random_state=42)\n",
    "\n",
    "\n",
    "# Loop over model types\n",
    "for model_type in ['gradient_boosting']:\n",
    "    print(f\"Currently training {model_type}...\")\n",
    "    X_train, X_test, y_train, y_test = preprocess_data(data_splits, model_type=model_type)\n",
    "    if model_type in ['cnn', 'lstm', 'cnn_lstm']:\n",
    "        input_shape = (X_train.shape[1], X_train.shape[2])\n",
    "    else:\n",
    "        input_shape = None\n",
    "\n",
    "    # K-fold Cross Validation model evaluation\n",
    "    fold_no = 1\n",
    "    mse_scores = []  # List to store the MSE for each fold\n",
    "    confidence_intervals = []  # List to store the confidence interval for each fold\n",
    "\n",
    "    for train, val in kfold.split(X_train, y_train):\n",
    "        # Define and compile the model for this fold\n",
    "        model = define_model(model_type, input_shape=input_shape)\n",
    "        if model_type in ['cnn', 'lstm', 'cnn_lstm']:\n",
    "            optimizer = tf.keras.optimizers.Adam(learning_rate=0.0001, clipvalue=1.0)\n",
    "            model.compile(optimizer=optimizer, loss='mean_squared_error')\n",
    "        elif model_type in ['random_forest', 'gradient_boosting']:\n",
    "            # No specific compilation needed for sklearn models\n",
    "            pass\n",
    "\n",
    "        # Generate a print\n",
    "        print(f'Training for fold {fold_no} ...')\n",
    "\n",
    "        # Fit data to model\n",
    "        if model_type in ['cnn', 'lstm', 'cnn_lstm']:\n",
    "            early_stopping = EarlyStopping(monitor='val_loss', patience=3, restore_best_weights=True)\n",
    "            model.fit(X_train[train], y_train[train], epochs=10, validation_data=(X_train[val], y_train[val]), callbacks=[early_stopping])\n",
    "        elif model_type in ['random_forest', 'gradient_boosting']:\n",
    "            model.fit(X_train[train], y_train[train])\n",
    "\n",
    "        # Ensure consistent input shape and convert to TensorFlow tensor\n",
    "        X_val_tensor = tf.convert_to_tensor(X_train[val], dtype=tf.float32)\n",
    "\n",
    "        # Evaluate the model on the validation set\n",
    "        if model_type in ['cnn', 'lstm', 'cnn_lstm']:\n",
    "            y_pred = model.predict(X_val_tensor)\n",
    "        elif model_type in ['random_forest', 'gradient_boosting']:\n",
    "            y_pred = model.predict(X_train[val])\n",
    "\n",
    "        # if y_pred contains NaN values, skip this fold and show error message\n",
    "        if np.isnan(y_pred).any():\n",
    "            print(f\"Fold {fold_no} skipped due to NaN values in y_pred\")\n",
    "            continue\n",
    "\n",
    "        mse = mean_squared_error(y_train[val], y_pred)\n",
    "        mse_scores.append(mse)\n",
    "\n",
    "        print(f\"Fold {fold_no} MSE: {mse}\")\n",
    "\n",
    "        # Calculate the confidence interval for this fold and save it for calculating the confidence interval for the average MSE\n",
    "        lower_bound, upper_bound = bootstrap_confidence_interval(model, X_train[val], y_train[val])\n",
    "        print(f\"95% Confidence Interval for fold {fold_no}: ({lower_bound:.4f}, {upper_bound:.4f})\")\n",
    "        confidence_intervals.append((lower_bound, upper_bound))\n",
    "        print(\"===================================\")\n",
    "\n",
    "        # Increase fold number\n",
    "        fold_no += 1\n",
    "\n",
    "    # Calculate and print the average MSE over all folds\n",
    "    average_mse = np.mean(mse_scores)\n",
    "    print(f\"Average MSE for {model_type}: {average_mse}\")\n",
    "    print(\"===================================\")\n",
    "\n",
    "    # Calculate the confidence interval for the average MSE using the confidence intervals for each fold\n",
    "    lower_bound = np.mean([interval[0] for interval in confidence_intervals])\n",
    "    upper_bound = np.mean([interval[1] for interval in confidence_intervals])\n",
    "    print(f\"95% Confidence Interval for {model_type}: ({lower_bound:.4f}, {upper_bound:.4f})\")\n",
    "    print(\"===================================\")"
   ]
  }
 ],
 "metadata": {
  "kernelspec": {
   "display_name": "Python 3",
   "language": "python",
   "name": "python3"
  },
  "language_info": {
   "codemirror_mode": {
    "name": "ipython",
    "version": 3
   },
   "file_extension": ".py",
   "mimetype": "text/x-python",
   "name": "python",
   "nbconvert_exporter": "python",
   "pygments_lexer": "ipython3",
   "version": "3.9.18"
  }
 },
 "nbformat": 4,
 "nbformat_minor": 2
}
