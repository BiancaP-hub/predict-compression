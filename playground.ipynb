{
 "cells": [
  {
   "cell_type": "code",
   "execution_count": 1,
   "metadata": {},
   "outputs": [
    {
     "name": "stderr",
     "output_type": "stream",
     "text": [
      "2023-11-21 22:59:36,241\tINFO util.py:159 -- Missing packages: ['ipywidgets']. Run `pip install -U ipywidgets`, then restart the notebook server for rich notebook output.\n",
      "2023-11-21 22:59:36,416\tINFO util.py:159 -- Missing packages: ['ipywidgets']. Run `pip install -U ipywidgets`, then restart the notebook server for rich notebook output.\n"
     ]
    },
    {
     "name": "stdout",
     "output_type": "stream",
     "text": [
      "X_train shape: (76, 502, 9)\n",
      "X_test shape: (20, 502, 9)\n",
      "y_train shape: 76\n",
      "y_test shape: 20\n",
      "Optimizing hyperparameters for cnn_lstm...\n"
     ]
    },
    {
     "name": "stderr",
     "output_type": "stream",
     "text": [
      "2023-11-21 22:59:40,657\tINFO worker.py:1673 -- Started a local Ray instance.\n",
      "2023-11-21 22:59:41,857\tINFO tune.py:220 -- Initializing Ray automatically. For cluster usage or custom Ray initialization, call `ray.init(...)` before `tune.run(...)`.\n",
      "2023-11-21 22:59:41,857\tINFO tune.py:586 -- [output] This uses the legacy output and progress reporter, as Jupyter notebooks are not supported by the new engine, yet. For more information, please see https://github.com/ray-project/ray/issues/36949\n"
     ]
    },
    {
     "data": {
      "text/html": [
       "<div class=\"tuneStatus\">\n",
       "  <div style=\"display: flex;flex-direction: row\">\n",
       "    <div style=\"display: flex;flex-direction: column;\">\n",
       "      <h3>Tune Status</h3>\n",
       "      <table>\n",
       "<tbody>\n",
       "<tr><td>Current time:</td><td>2023-11-21 23:01:32</td></tr>\n",
       "<tr><td>Running for: </td><td>00:01:50.22        </td></tr>\n",
       "<tr><td>Memory:      </td><td>12.1/63.9 GiB      </td></tr>\n",
       "</tbody>\n",
       "</table>\n",
       "    </div>\n",
       "    <div class=\"vDivider\"></div>\n",
       "    <div class=\"systemInfo\">\n",
       "      <h3>System Info</h3>\n",
       "      Using HyperBand: num_stopped=0 total_brackets=2<br>Round #0:<br>  Bracket(Max Size (n)=5, Milestone (r)=81, completed=100.0%): {TERMINATED: 5} <br>  Bracket(Max Size (n)=3, Milestone (r)=81, completed=100.0%): {TERMINATED: 5} <br>Logical resource usage: 1.0/16 CPUs, 0/1 GPUs\n",
       "    </div>\n",
       "    \n",
       "  </div>\n",
       "  <div class=\"hDivider\"></div>\n",
       "  <div class=\"trialStatus\">\n",
       "    <h3>Trial Status</h3>\n",
       "    <table>\n",
       "<thead>\n",
       "<tr><th>Trial name        </th><th>status    </th><th>loc            </th><th style=\"text-align: right;\">  conv_units</th><th>dense_units  </th><th style=\"text-align: right;\">  learning_rate</th><th>lstm_units  </th><th>model_type  </th><th style=\"text-align: right;\">  iter</th><th style=\"text-align: right;\">  total time (s)</th><th style=\"text-align: right;\">  mean_squared_error</th></tr>\n",
       "</thead>\n",
       "<tbody>\n",
       "<tr><td>lambda_908d3_00000</td><td>TERMINATED</td><td>127.0.0.1:10052</td><td style=\"text-align: right;\">          64</td><td>[100, 50]    </td><td style=\"text-align: right;\">         0.001 </td><td>[64]        </td><td>cnn_lstm    </td><td style=\"text-align: right;\">     1</td><td style=\"text-align: right;\">        102.537 </td><td style=\"text-align: right;\">             181.553</td></tr>\n",
       "<tr><td>lambda_908d3_00001</td><td>TERMINATED</td><td>127.0.0.1:21848</td><td style=\"text-align: right;\">          64</td><td>[50]         </td><td style=\"text-align: right;\">         0.1   </td><td>[128, 64]   </td><td>cnn_lstm    </td><td style=\"text-align: right;\">     1</td><td style=\"text-align: right;\">         87.1659</td><td style=\"text-align: right;\">             148.165</td></tr>\n",
       "<tr><td>lambda_908d3_00002</td><td>TERMINATED</td><td>127.0.0.1:14672</td><td style=\"text-align: right;\">          32</td><td>[100, 50]    </td><td style=\"text-align: right;\">         0.1   </td><td>[64]        </td><td>cnn_lstm    </td><td style=\"text-align: right;\">     1</td><td style=\"text-align: right;\">         56.5675</td><td style=\"text-align: right;\">             240.862</td></tr>\n",
       "<tr><td>lambda_908d3_00003</td><td>TERMINATED</td><td>127.0.0.1:28720</td><td style=\"text-align: right;\">          32</td><td>[50]         </td><td style=\"text-align: right;\">         0.0001</td><td>[64]        </td><td>cnn_lstm    </td><td style=\"text-align: right;\">     1</td><td style=\"text-align: right;\">         70.3528</td><td style=\"text-align: right;\">             228.791</td></tr>\n",
       "<tr><td>lambda_908d3_00004</td><td>TERMINATED</td><td>127.0.0.1:22168</td><td style=\"text-align: right;\">          64</td><td>[50]         </td><td style=\"text-align: right;\">         0.0001</td><td>[64]        </td><td>cnn_lstm    </td><td style=\"text-align: right;\">     1</td><td style=\"text-align: right;\">         66.209 </td><td style=\"text-align: right;\">             227.408</td></tr>\n",
       "<tr><td>lambda_908d3_00005</td><td>TERMINATED</td><td>127.0.0.1:11544</td><td style=\"text-align: right;\">          64</td><td>[50]         </td><td style=\"text-align: right;\">         0.01  </td><td>[64]        </td><td>cnn_lstm    </td><td style=\"text-align: right;\">     1</td><td style=\"text-align: right;\">         63.7687</td><td style=\"text-align: right;\">             161.559</td></tr>\n",
       "<tr><td>lambda_908d3_00006</td><td>TERMINATED</td><td>127.0.0.1:29924</td><td style=\"text-align: right;\">          64</td><td>[50]         </td><td style=\"text-align: right;\">         0.01  </td><td>[64]        </td><td>cnn_lstm    </td><td style=\"text-align: right;\">     1</td><td style=\"text-align: right;\">         63.6196</td><td style=\"text-align: right;\">             162.48 </td></tr>\n",
       "<tr><td>lambda_908d3_00007</td><td>TERMINATED</td><td>127.0.0.1:20568</td><td style=\"text-align: right;\">          32</td><td>[100, 50]    </td><td style=\"text-align: right;\">         0.01  </td><td>[64]        </td><td>cnn_lstm    </td><td style=\"text-align: right;\">     1</td><td style=\"text-align: right;\">         74.2403</td><td style=\"text-align: right;\">             156.182</td></tr>\n",
       "<tr><td>lambda_908d3_00008</td><td>TERMINATED</td><td>127.0.0.1:32608</td><td style=\"text-align: right;\">          64</td><td>[50]         </td><td style=\"text-align: right;\">         0.1   </td><td>[128, 64]   </td><td>cnn_lstm    </td><td style=\"text-align: right;\">     1</td><td style=\"text-align: right;\">         80.9926</td><td style=\"text-align: right;\">             158.054</td></tr>\n",
       "<tr><td>lambda_908d3_00009</td><td>TERMINATED</td><td>127.0.0.1:19216</td><td style=\"text-align: right;\">          64</td><td>[100, 50]    </td><td style=\"text-align: right;\">         0.1   </td><td>[128, 64]   </td><td>cnn_lstm    </td><td style=\"text-align: right;\">     1</td><td style=\"text-align: right;\">         81.4619</td><td style=\"text-align: right;\">             181.522</td></tr>\n",
       "</tbody>\n",
       "</table>\n",
       "  </div>\n",
       "</div>\n",
       "<style>\n",
       ".tuneStatus {\n",
       "  color: var(--jp-ui-font-color1);\n",
       "}\n",
       ".tuneStatus .systemInfo {\n",
       "  display: flex;\n",
       "  flex-direction: column;\n",
       "}\n",
       ".tuneStatus td {\n",
       "  white-space: nowrap;\n",
       "}\n",
       ".tuneStatus .trialStatus {\n",
       "  display: flex;\n",
       "  flex-direction: column;\n",
       "}\n",
       ".tuneStatus h3 {\n",
       "  font-weight: bold;\n",
       "}\n",
       ".tuneStatus .hDivider {\n",
       "  border-bottom-width: var(--jp-border-width);\n",
       "  border-bottom-color: var(--jp-border-color0);\n",
       "  border-bottom-style: solid;\n",
       "}\n",
       ".tuneStatus .vDivider {\n",
       "  border-left-width: var(--jp-border-width);\n",
       "  border-left-color: var(--jp-border-color0);\n",
       "  border-left-style: solid;\n",
       "  margin: 0.5em 1em 0.5em 1em;\n",
       "}\n",
       "</style>\n"
      ],
      "text/plain": [
       "<IPython.core.display.HTML object>"
      ]
     },
     "metadata": {},
     "output_type": "display_data"
    },
    {
     "name": "stderr",
     "output_type": "stream",
     "text": [
      "\u001b[36m(<lambda> pid=14672)\u001b[0m 2023-11-21 22:59:49.576342: I tensorflow/core/platform/cpu_feature_guard.cc:182] This TensorFlow binary is optimized to use available CPU instructions in performance-critical operations.\n",
      "\u001b[36m(<lambda> pid=14672)\u001b[0m To enable the following instructions: SSE SSE2 SSE3 SSE4.1 SSE4.2 AVX AVX2 FMA, in other operations, rebuild TensorFlow with the appropriate compiler flags.\n"
     ]
    },
    {
     "name": "stdout",
     "output_type": "stream",
     "text": [
      "\u001b[36m(<lambda> pid=28720)\u001b[0m Epoch 1/1000\n",
      "\u001b[36m(<lambda> pid=11544)\u001b[0m \n",
      "\u001b[36m(<lambda> pid=11544)\u001b[0m 1/2 [==============>...............] - ETA: 2s - loss: 211.4969\n",
      "\u001b[36m(<lambda> pid=11544)\u001b[0m 2/2 [==============================] - ETA: 0s - loss: 261.3177\n",
      "\u001b[36m(<lambda> pid=11544)\u001b[0m 2/2 [==============================] - 3s 667ms/step - loss: 261.3177 - val_loss: 98.0550\n",
      "\u001b[36m(<lambda> pid=20568)\u001b[0m Epoch 4/1000\u001b[32m [repeated 47x across cluster] (Ray deduplicates logs by default. Set RAY_DEDUP_LOGS=0 to disable log deduplication, or see https://docs.ray.io/en/master/ray-observability/ray-logging.html#log-deduplication for more options.)\u001b[0m\n",
      "\u001b[36m(<lambda> pid=11544)\u001b[0m 1/1 [==============================] - ETA: 0s\n",
      "\u001b[36m(<lambda> pid=11544)\u001b[0m 1/1 [==============================] - 2s 2s/step\n",
      "\u001b[36m(<lambda> pid=28720)\u001b[0m \u001b[32m [repeated 204x across cluster]\u001b[0m\n",
      "\u001b[36m(<lambda> pid=10052)\u001b[0m 1/2 [==============>...............] - ETA: 0s - loss: 285.2323\u001b[32m [repeated 89x across cluster]\u001b[0m\n",
      "\u001b[36m(<lambda> pid=10052)\u001b[0m 2/2 [==============================] - ETA: 0s - loss: 255.8227\u001b[32m [repeated 91x across cluster]\u001b[0m\n",
      "\u001b[36m(<lambda> pid=28720)\u001b[0m 2/2 [==============================] - 0s 152ms/step - loss: 261.2245 - val_loss: 99.6058\u001b[32m [repeated 100x across cluster]\u001b[0m\n",
      "\u001b[36m(<lambda> pid=10052)\u001b[0m Epoch 25/1000\u001b[32m [repeated 90x across cluster]\u001b[0m\n",
      "\u001b[36m(<lambda> pid=20568)\u001b[0m 1/1 [==============================] - ETA: 0s\u001b[32m [repeated 3x across cluster]\u001b[0m\n",
      "\u001b[36m(<lambda> pid=20568)\u001b[0m 1/1 [==============================] - 2s 2s/step\u001b[32m [repeated 3x across cluster]\u001b[0m\n",
      "\u001b[36m(<lambda> pid=28720)\u001b[0m \u001b[32m [repeated 175x across cluster]\u001b[0m\n",
      "\u001b[36m(<lambda> pid=28720)\u001b[0m 1/2 [==============>...............] - ETA: 0s - loss: 405.4290\u001b[32m [repeated 76x across cluster]\u001b[0m\n",
      "\u001b[36m(<lambda> pid=28720)\u001b[0m 2/2 [==============================] - ETA: 0s - loss: 258.5443\u001b[32m [repeated 75x across cluster]\u001b[0m\n",
      "\u001b[36m(<lambda> pid=10052)\u001b[0m 2/2 [==============================] - 0s 221ms/step - loss: 243.8232 - val_loss: 95.4827\u001b[32m [repeated 73x across cluster]\u001b[0m\n",
      "\u001b[36m(<lambda> pid=28720)\u001b[0m Epoch 52/1000\u001b[32m [repeated 72x across cluster]\u001b[0m\n",
      "\u001b[36m(<lambda> pid=10052)\u001b[0m 1/1 [==============================] - ETA: 0s\n",
      "\u001b[36m(<lambda> pid=10052)\u001b[0m 1/1 [==============================] - 1s 1s/step\n",
      "\u001b[36m(<lambda> pid=28720)\u001b[0m \u001b[32m [repeated 144x across cluster]\u001b[0m\n",
      "\u001b[36m(<lambda> pid=28720)\u001b[0m 1/2 [==============>...............] - ETA: 0s - loss: 356.3399\u001b[32m [repeated 59x across cluster]\u001b[0m\n",
      "\u001b[36m(<lambda> pid=28720)\u001b[0m 2/2 [==============================] - ETA: 0s - loss: 256.5394\u001b[32m [repeated 59x across cluster]\u001b[0m\n",
      "\u001b[36m(<lambda> pid=21848)\u001b[0m 2/2 [==============================] - 1s 339ms/step - loss: 184.0441 - val_loss: 59.3209\u001b[32m [repeated 53x across cluster]\u001b[0m\n",
      "\u001b[36m(<lambda> pid=29924)\u001b[0m Epoch 5/1000\u001b[32m [repeated 42x across cluster]\u001b[0m\n",
      "\u001b[36m(<lambda> pid=11544)\u001b[0m 1/1 [==============================] - ETA: 0s\u001b[32m [repeated 7x across cluster]\u001b[0m\n",
      "\u001b[36m(<lambda> pid=11544)\u001b[0m 1/1 [==============================] - 1s 517ms/step\u001b[32m [repeated 7x across cluster]\u001b[0m\n",
      "\u001b[36m(<lambda> pid=20568)\u001b[0m \u001b[32m [repeated 106x across cluster]\u001b[0m\n",
      "\u001b[36m(<lambda> pid=20568)\u001b[0m 1/2 [==============>...............] - ETA: 0s - loss: 87.0855\u001b[32m [repeated 45x across cluster]\u001b[0m\n",
      "\u001b[36m(<lambda> pid=22168)\u001b[0m 2/2 [==============================] - ETA: 0s - loss: 209.0922\u001b[32m [repeated 46x across cluster]\u001b[0m\n",
      "\u001b[36m(<lambda> pid=22168)\u001b[0m 2/2 [==============================] - 0s 126ms/step - loss: 207.9434 - val_loss: 305.9505\u001b[32m [repeated 51x across cluster]\u001b[0m\n",
      "\u001b[36m(<lambda> pid=28720)\u001b[0m Epoch 10/1000\u001b[32m [repeated 55x across cluster]\u001b[0m\n",
      "\u001b[36m(<lambda> pid=22168)\u001b[0m 1/1 [==============================] - ETA: 0s\u001b[32m [repeated 3x across cluster]\u001b[0m\n",
      "\u001b[36m(<lambda> pid=22168)\u001b[0m 1/1 [==============================] - 0s 492ms/step\u001b[32m [repeated 3x across cluster]\u001b[0m\n",
      "\u001b[36m(<lambda> pid=28720)\u001b[0m \u001b[32m [repeated 136x across cluster]\u001b[0m\n",
      "\u001b[36m(<lambda> pid=28720)\u001b[0m 1/2 [==============>...............] - ETA: 0s - loss: 135.0063\u001b[32m [repeated 62x across cluster]\u001b[0m\n",
      "\u001b[36m(<lambda> pid=11544)\u001b[0m 2/2 [==============================] - ETA: 0s - loss: 153.4057\u001b[32m [repeated 62x across cluster]\u001b[0m\n",
      "\u001b[36m(<lambda> pid=28720)\u001b[0m 2/2 [==============================] - 0s 167ms/step - loss: 206.4042 - val_loss: 305.1207\u001b[32m [repeated 59x across cluster]\u001b[0m\n",
      "\u001b[36m(<lambda> pid=28720)\u001b[0m Epoch 34/1000\u001b[32m [repeated 71x across cluster]\u001b[0m\n",
      "\u001b[36m(<lambda> pid=32608)\u001b[0m 1/1 [==============================] - ETA: 0s\u001b[32m [repeated 2x across cluster]\u001b[0m\n",
      "\u001b[36m(<lambda> pid=32608)\u001b[0m 1/1 [==============================] - 2s 2s/step\u001b[32m [repeated 2x across cluster]\u001b[0m\n",
      "\u001b[36m(<lambda> pid=21848)\u001b[0m \u001b[32m [repeated 176x across cluster]\u001b[0m\n",
      "\u001b[36m(<lambda> pid=21848)\u001b[0m 1/2 [==============>...............] - ETA: 0s - loss: 172.7500\u001b[32m [repeated 72x across cluster]\u001b[0m\n",
      "\u001b[36m(<lambda> pid=21848)\u001b[0m 2/2 [==============================] - ETA: 0s - loss: 109.3802\u001b[32m [repeated 69x across cluster]\u001b[0m\n",
      "\u001b[36m(<lambda> pid=19216)\u001b[0m 2/2 [==============================] - 1s 377ms/step - loss: 126.9284 - val_loss: 996.5853\u001b[32m [repeated 73x across cluster]\u001b[0m\n",
      "\u001b[36m(<lambda> pid=10052)\u001b[0m Epoch 58/1000\u001b[32m [repeated 65x across cluster]\u001b[0m\n",
      "\u001b[36m(<lambda> pid=21848)\u001b[0m 1/1 [==============================] - ETA: 0s\u001b[32m [repeated 5x across cluster]\u001b[0m\n",
      "\u001b[36m(<lambda> pid=21848)\u001b[0m 1/1 [==============================] - 1s 1s/step\u001b[32m [repeated 5x across cluster]\u001b[0m\n",
      "\u001b[36m(<lambda> pid=20568)\u001b[0m \u001b[32m [repeated 138x across cluster]\u001b[0m\n",
      "\u001b[36m(<lambda> pid=20568)\u001b[0m 1/2 [==============>...............] - ETA: 0s - loss: 186.0569\u001b[32m [repeated 59x across cluster]\u001b[0m\n",
      "\u001b[36m(<lambda> pid=20568)\u001b[0m 2/2 [==============================] - ETA: 0s - loss: 143.7347\u001b[32m [repeated 59x across cluster]\u001b[0m\n",
      "\u001b[36m(<lambda> pid=20568)\u001b[0m 2/2 [==============================] - 0s 93ms/step - loss: 130.0170 - val_loss: 394.4976\u001b[32m [repeated 55x across cluster]\u001b[0m\n",
      "\u001b[36m(<lambda> pid=20568)\u001b[0m Epoch 25/1000\u001b[32m [repeated 52x across cluster]\u001b[0m\n",
      "\u001b[36m(<lambda> pid=14672)\u001b[0m 1/1 [==============================] - ETA: 0s\u001b[32m [repeated 4x across cluster]\u001b[0m\n",
      "\u001b[36m(<lambda> pid=14672)\u001b[0m 1/1 [==============================] - 1s 570ms/step\u001b[32m [repeated 4x across cluster]\u001b[0m\n",
      "\u001b[36m(<lambda> pid=22168)\u001b[0m \u001b[32m [repeated 111x across cluster]\u001b[0m\n",
      "\u001b[36m(<lambda> pid=22168)\u001b[0m 1/2 [==============>...............] - ETA: 0s - loss: 89.7005\u001b[32m [repeated 52x across cluster]\u001b[0m\n",
      "\u001b[36m(<lambda> pid=22168)\u001b[0m 2/2 [==============================] - ETA: 0s - loss: 253.6141\u001b[32m [repeated 53x across cluster]\u001b[0m\n",
      "\u001b[36m(<lambda> pid=22168)\u001b[0m 2/2 [==============================] - 0s 122ms/step - loss: 253.7017 - val_loss: 119.9609\u001b[32m [repeated 55x across cluster]\u001b[0m\n",
      "\u001b[36m(<lambda> pid=10052)\u001b[0m Epoch 13/1000\u001b[32m [repeated 65x across cluster]\u001b[0m\n",
      "\u001b[36m(<lambda> pid=20568)\u001b[0m 1/1 [==============================] - ETA: 0s\n",
      "\u001b[36m(<lambda> pid=20568)\u001b[0m 1/1 [==============================] - 3s 3s/step\n",
      "\u001b[36m(<lambda> pid=29924)\u001b[0m \u001b[32m [repeated 181x across cluster]\u001b[0m\n",
      "\u001b[36m(<lambda> pid=29924)\u001b[0m 1/2 [==============>...............] - ETA: 0s - loss: 317.0065\u001b[32m [repeated 75x across cluster]\u001b[0m\n",
      "\u001b[36m(<lambda> pid=10052)\u001b[0m 2/2 [==============================] - ETA: 0s - loss: 162.0406\u001b[32m [repeated 73x across cluster]\u001b[0m\n",
      "\u001b[36m(<lambda> pid=29924)\u001b[0m 2/2 [==============================] - 0s 197ms/step - loss: 190.1487 - val_loss: 50.4886\u001b[32m [repeated 73x across cluster]\u001b[0m\n",
      "\u001b[36m(<lambda> pid=22168)\u001b[0m Epoch 42/1000\u001b[32m [repeated 64x across cluster]\u001b[0m\n",
      "\u001b[36m(<lambda> pid=32608)\u001b[0m 1/1 [==============================] - ETA: 0s\u001b[32m [repeated 2x across cluster]\u001b[0m\n",
      "\u001b[36m(<lambda> pid=32608)\u001b[0m 1/1 [==============================] - 2s 2s/step\u001b[32m [repeated 2x across cluster]\u001b[0m\n",
      "\u001b[36m(<lambda> pid=28720)\u001b[0m \u001b[32m [repeated 142x across cluster]\u001b[0m\n",
      "\u001b[36m(<lambda> pid=28720)\u001b[0m 1/2 [==============>...............] - ETA: 0s - loss: 273.6006\u001b[32m [repeated 61x across cluster]\u001b[0m\n",
      "\u001b[36m(<lambda> pid=10052)\u001b[0m 2/2 [==============================] - ETA: 0s - loss: 154.0754\u001b[32m [repeated 60x across cluster]\u001b[0m\n",
      "\u001b[36m(<lambda> pid=28720)\u001b[0m 2/2 [==============================] - 0s 116ms/step - loss: 254.3079 - val_loss: 121.5125\u001b[32m [repeated 64x across cluster]\u001b[0m\n",
      "\u001b[36m(<lambda> pid=28720)\u001b[0m Epoch 15/1000\u001b[32m [repeated 69x across cluster]\u001b[0m\n"
     ]
    },
    {
     "data": {
      "text/html": [
       "<div class=\"trialProgress\">\n",
       "  <h3>Trial Progress</h3>\n",
       "  <table>\n",
       "<thead>\n",
       "<tr><th>Trial name        </th><th style=\"text-align: right;\">  mean_squared_error</th></tr>\n",
       "</thead>\n",
       "<tbody>\n",
       "<tr><td>lambda_908d3_00000</td><td style=\"text-align: right;\">             181.553</td></tr>\n",
       "<tr><td>lambda_908d3_00001</td><td style=\"text-align: right;\">             148.165</td></tr>\n",
       "<tr><td>lambda_908d3_00002</td><td style=\"text-align: right;\">             240.862</td></tr>\n",
       "<tr><td>lambda_908d3_00003</td><td style=\"text-align: right;\">             228.791</td></tr>\n",
       "<tr><td>lambda_908d3_00004</td><td style=\"text-align: right;\">             227.408</td></tr>\n",
       "<tr><td>lambda_908d3_00005</td><td style=\"text-align: right;\">             161.559</td></tr>\n",
       "<tr><td>lambda_908d3_00006</td><td style=\"text-align: right;\">             162.48 </td></tr>\n",
       "<tr><td>lambda_908d3_00007</td><td style=\"text-align: right;\">             156.182</td></tr>\n",
       "<tr><td>lambda_908d3_00008</td><td style=\"text-align: right;\">             158.054</td></tr>\n",
       "<tr><td>lambda_908d3_00009</td><td style=\"text-align: right;\">             181.522</td></tr>\n",
       "</tbody>\n",
       "</table>\n",
       "</div>\n",
       "<style>\n",
       ".trialProgress {\n",
       "  display: flex;\n",
       "  flex-direction: column;\n",
       "  color: var(--jp-ui-font-color1);\n",
       "}\n",
       ".trialProgress h3 {\n",
       "  font-weight: bold;\n",
       "}\n",
       ".trialProgress td {\n",
       "  white-space: nowrap;\n",
       "}\n",
       "</style>\n"
      ],
      "text/plain": [
       "<IPython.core.display.HTML object>"
      ]
     },
     "metadata": {},
     "output_type": "display_data"
    },
    {
     "name": "stderr",
     "output_type": "stream",
     "text": [
      "\u001b[36m(<lambda> pid=14672)\u001b[0m WARNING:tensorflow:5 out of the last 5 calls to <function Model.make_predict_function.<locals>.predict_function at 0x000002917B03CB80> triggered tf.function retracing. Tracing is expensive and the excessive number of tracings could be due to (1) creating @tf.function repeatedly in a loop, (2) passing tensors with different shapes, (3) passing Python objects instead of tensors. For (1), please define your @tf.function outside of the loop. For (2), @tf.function has reduce_retracing=True option that can avoid unnecessary retracing. For (3), please refer to https://www.tensorflow.org/guide/function#controlling_retracing and https://www.tensorflow.org/api_docs/python/tf/function for  more details.\n",
      "\u001b[36m(<lambda> pid=19216)\u001b[0m 2023-11-21 22:59:49.603566: I tensorflow/core/platform/cpu_feature_guard.cc:182] This TensorFlow binary is optimized to use available CPU instructions in performance-critical operations.\u001b[32m [repeated 9x across cluster]\u001b[0m\n",
      "\u001b[36m(<lambda> pid=19216)\u001b[0m To enable the following instructions: SSE SSE2 SSE3 SSE4.1 SSE4.2 AVX AVX2 FMA, in other operations, rebuild TensorFlow with the appropriate compiler flags.\u001b[32m [repeated 9x across cluster]\u001b[0m\n"
     ]
    },
    {
     "name": "stdout",
     "output_type": "stream",
     "text": [
      "\u001b[36m(<lambda> pid=14672)\u001b[0m Average MSE: 240.8616180419922 +/- 221.91062927246094\n",
      "\u001b[36m(<lambda> pid=14672)\u001b[0m 1/1 [==============================] - ETA: 0s\u001b[32m [repeated 5x across cluster]\u001b[0m\n",
      "\u001b[36m(<lambda> pid=14672)\u001b[0m 1/1 [==============================] - 1s 561ms/step\u001b[32m [repeated 5x across cluster]\u001b[0m\n",
      "\u001b[36m(<lambda> pid=28720)\u001b[0m \u001b[32m [repeated 167x across cluster]\u001b[0m\n",
      "\u001b[36m(<lambda> pid=28720)\u001b[0m 1/2 [==============>...............] - ETA: 0s - loss: 146.6572\u001b[32m [repeated 70x across cluster]\u001b[0m\n",
      "\u001b[36m(<lambda> pid=10052)\u001b[0m 2/2 [==============================] - ETA: 0s - loss: 138.1384\u001b[32m [repeated 71x across cluster]\u001b[0m\n",
      "\u001b[36m(<lambda> pid=28720)\u001b[0m 2/2 [==============================] - 0s 135ms/step - loss: 251.3310 - val_loss: 120.9056\u001b[32m [repeated 67x across cluster]\u001b[0m\n",
      "\u001b[36m(<lambda> pid=11544)\u001b[0m Epoch 18/1000\u001b[32m [repeated 77x across cluster]\u001b[0m\n",
      "\u001b[36m(<lambda> pid=28720)\u001b[0m 1/1 [==============================] - ETA: 0s\n",
      "\u001b[36m(<lambda> pid=28720)\u001b[0m 1/1 [==============================] - 1s 1s/step\n",
      "\u001b[36m(<lambda> pid=29924)\u001b[0m Average MSE: 162.48031616210938 +/- 120.2830581665039\n"
     ]
    },
    {
     "name": "stderr",
     "output_type": "stream",
     "text": [
      "\u001b[36m(<lambda> pid=29924)\u001b[0m WARNING:tensorflow:5 out of the last 5 calls to <function Model.make_predict_function.<locals>.predict_function at 0x000001311F3CAE50> triggered tf.function retracing. Tracing is expensive and the excessive number of tracings could be due to (1) creating @tf.function repeatedly in a loop, (2) passing tensors with different shapes, (3) passing Python objects instead of tensors. For (1), please define your @tf.function outside of the loop. For (2), @tf.function has reduce_retracing=True option that can avoid unnecessary retracing. For (3), please refer to https://www.tensorflow.org/guide/function#controlling_retracing and https://www.tensorflow.org/api_docs/python/tf/function for  more details.\n",
      "\u001b[36m(<lambda> pid=11544)\u001b[0m WARNING:tensorflow:5 out of the last 5 calls to <function Model.make_predict_function.<locals>.predict_function at 0x0000018F0E699EE0> triggered tf.function retracing. Tracing is expensive and the excessive number of tracings could be due to (1) creating @tf.function repeatedly in a loop, (2) passing tensors with different shapes, (3) passing Python objects instead of tensors. For (1), please define your @tf.function outside of the loop. For (2), @tf.function has reduce_retracing=True option that can avoid unnecessary retracing. For (3), please refer to https://www.tensorflow.org/guide/function#controlling_retracing and https://www.tensorflow.org/api_docs/python/tf/function for  more details.\n"
     ]
    },
    {
     "name": "stdout",
     "output_type": "stream",
     "text": [
      "\u001b[36m(<lambda> pid=20568)\u001b[0m \u001b[32m [repeated 179x across cluster]\u001b[0m\n",
      "\u001b[36m(<lambda> pid=10052)\u001b[0m 1/2 [==============>...............] - ETA: 0s - loss: 75.4267\u001b[32m [repeated 78x across cluster]\u001b[0m\n",
      "\u001b[36m(<lambda> pid=10052)\u001b[0m 2/2 [==============================] - ETA: 0s - loss: 126.5875\u001b[32m [repeated 78x across cluster]\u001b[0m\n",
      "\u001b[36m(<lambda> pid=22168)\u001b[0m 2/2 [==============================] - 7s 707ms/step - loss: 245.1878 - val_loss: 159.8376\u001b[32m [repeated 75x across cluster]\u001b[0m\n",
      "\u001b[36m(<lambda> pid=32608)\u001b[0m Epoch 5/1000\u001b[32m [repeated 51x across cluster]\u001b[0m\n",
      "\u001b[36m(<lambda> pid=10052)\u001b[0m 1/1 [==============================] - ETA: 0s\u001b[32m [repeated 5x across cluster]\u001b[0m\n",
      "\u001b[36m(<lambda> pid=10052)\u001b[0m 1/1 [==============================] - 1s 674ms/step\u001b[32m [repeated 5x across cluster]\u001b[0m\n",
      "\u001b[36m(<lambda> pid=22168)\u001b[0m Average MSE: 227.4079132080078 +/- 138.0660858154297\u001b[32m [repeated 2x across cluster]\u001b[0m\n",
      "\u001b[36m(<lambda> pid=28720)\u001b[0m \u001b[32m [repeated 76x across cluster]\u001b[0m\n",
      "\u001b[36m(<lambda> pid=19216)\u001b[0m 1/2 [==============>...............] - ETA: 0s - loss: 114.6721\u001b[32m [repeated 28x across cluster]\u001b[0m\n",
      "\u001b[36m(<lambda> pid=21848)\u001b[0m 2/2 [==============================] - ETA: 0s - loss: 194.0715\u001b[32m [repeated 28x across cluster]\u001b[0m\n",
      "\u001b[36m(<lambda> pid=21848)\u001b[0m 2/2 [==============================] - 0s 276ms/step - loss: 181.9059 - val_loss: 26.1725\u001b[32m [repeated 30x across cluster]\u001b[0m\n"
     ]
    },
    {
     "name": "stderr",
     "output_type": "stream",
     "text": [
      "\u001b[36m(<lambda> pid=28720)\u001b[0m WARNING:tensorflow:5 out of the last 5 calls to <function Model.make_predict_function.<locals>.predict_function at 0x000001DF9CB2EF70> triggered tf.function retracing. Tracing is expensive and the excessive number of tracings could be due to (1) creating @tf.function repeatedly in a loop, (2) passing tensors with different shapes, (3) passing Python objects instead of tensors. For (1), please define your @tf.function outside of the loop. For (2), @tf.function has reduce_retracing=True option that can avoid unnecessary retracing. For (3), please refer to https://www.tensorflow.org/guide/function#controlling_retracing and https://www.tensorflow.org/api_docs/python/tf/function for  more details.\u001b[32m [repeated 2x across cluster]\u001b[0m\n"
     ]
    },
    {
     "name": "stdout",
     "output_type": "stream",
     "text": [
      "\u001b[36m(<lambda> pid=20568)\u001b[0m Epoch 10/1000\u001b[32m [repeated 26x across cluster]\u001b[0m\n",
      "\u001b[36m(<lambda> pid=19216)\u001b[0m 1/1 [==============================] - ETA: 0s\u001b[32m [repeated 4x across cluster]\u001b[0m\n",
      "\u001b[36m(<lambda> pid=19216)\u001b[0m 1/1 [==============================] - 1s 616ms/step\u001b[32m [repeated 4x across cluster]\u001b[0m\n",
      "\u001b[36m(<lambda> pid=28720)\u001b[0m Average MSE: 228.79067993164062 +/- 136.48291015625\n",
      "\u001b[36m(<lambda> pid=10052)\u001b[0m \u001b[32m [repeated 95x across cluster]\u001b[0m\n",
      "\u001b[36m(<lambda> pid=10052)\u001b[0m 1/2 [==============>...............] - ETA: 0s - loss: 388.6640\u001b[32m [repeated 41x across cluster]\u001b[0m\n",
      "\u001b[36m(<lambda> pid=10052)\u001b[0m 2/2 [==============================] - ETA: 0s - loss: 249.5531\u001b[32m [repeated 38x across cluster]\u001b[0m\n",
      "\u001b[36m(<lambda> pid=20568)\u001b[0m Average MSE: 156.18191528320312 +/- 126.36676788330078\n",
      "\u001b[36m(<lambda> pid=10052)\u001b[0m 2/2 [==============================] - 0s 115ms/step - loss: 248.3445 - val_loss: 118.9165\u001b[32m [repeated 40x across cluster]\u001b[0m\n",
      "\u001b[36m(<lambda> pid=32608)\u001b[0m Epoch 3/1000\u001b[32m [repeated 38x across cluster]\u001b[0m\n",
      "\u001b[36m(<lambda> pid=20568)\u001b[0m 1/1 [==============================] - ETA: 0s\n",
      "\u001b[36m(<lambda> pid=20568)\u001b[0m 1/1 [==============================] - 0s 357ms/step\n",
      "\u001b[36m(<lambda> pid=10052)\u001b[0m \u001b[32m [repeated 80x across cluster]\u001b[0m\n",
      "\u001b[36m(<lambda> pid=10052)\u001b[0m 1/2 [==============>...............] - ETA: 0s - loss: 360.7571\u001b[32m [repeated 34x across cluster]\u001b[0m\n",
      "\u001b[36m(<lambda> pid=10052)\u001b[0m 2/2 [==============================] - ETA: 0s - loss: 240.0689\u001b[32m [repeated 33x across cluster]\u001b[0m\n",
      "\u001b[36m(<lambda> pid=10052)\u001b[0m 2/2 [==============================] - 0s 157ms/step - loss: 239.1622 - val_loss: 113.0490\u001b[32m [repeated 34x across cluster]\u001b[0m\n",
      "\u001b[36m(<lambda> pid=32608)\u001b[0m 1/1 [==============================] - ETA: 0s\n",
      "\u001b[36m(<lambda> pid=32608)\u001b[0m 1/1 [==============================] - 1s 900ms/step\n",
      "\u001b[36m(<lambda> pid=32608)\u001b[0m Average MSE: 158.05361938476562 +/- 116.50569915771484\n"
     ]
    },
    {
     "name": "stderr",
     "output_type": "stream",
     "text": [
      "\u001b[36m(<lambda> pid=32608)\u001b[0m WARNING:tensorflow:5 out of the last 5 calls to <function Model.make_predict_function.<locals>.predict_function at 0x000001A8DF715670> triggered tf.function retracing. Tracing is expensive and the excessive number of tracings could be due to (1) creating @tf.function repeatedly in a loop, (2) passing tensors with different shapes, (3) passing Python objects instead of tensors. For (1), please define your @tf.function outside of the loop. For (2), @tf.function has reduce_retracing=True option that can avoid unnecessary retracing. For (3), please refer to https://www.tensorflow.org/guide/function#controlling_retracing and https://www.tensorflow.org/api_docs/python/tf/function for  more details.\u001b[32m [repeated 2x across cluster]\u001b[0m\n"
     ]
    },
    {
     "name": "stdout",
     "output_type": "stream",
     "text": [
      "\u001b[36m(<lambda> pid=10052)\u001b[0m Epoch 46/1000\u001b[32m [repeated 35x across cluster]\u001b[0m\n",
      "\u001b[36m(<lambda> pid=10052)\u001b[0m \u001b[32m [repeated 80x across cluster]\u001b[0m\n",
      "\u001b[36m(<lambda> pid=10052)\u001b[0m 1/2 [==============>...............] - ETA: 0s - loss: 360.8084\u001b[32m [repeated 33x across cluster]\u001b[0m\n",
      "\u001b[36m(<lambda> pid=10052)\u001b[0m 2/2 [==============================] - ETA: 0s - loss: 227.8974\u001b[32m [repeated 34x across cluster]\u001b[0m\n",
      "\u001b[36m(<lambda> pid=10052)\u001b[0m 2/2 [==============================] - 0s 103ms/step - loss: 227.1098 - val_loss: 101.6146\u001b[32m [repeated 34x across cluster]\u001b[0m\n",
      "\u001b[36m(<lambda> pid=19216)\u001b[0m 1/1 [==============================] - ETA: 0s\n",
      "\u001b[36m(<lambda> pid=19216)\u001b[0m 1/1 [==============================] - 1s 767ms/step\n",
      "\u001b[36m(<lambda> pid=19216)\u001b[0m Average MSE: 181.5216827392578 +/- 118.98160552978516\n",
      "\u001b[36m(<lambda> pid=10052)\u001b[0m 1/1 [==============================] - ETA: 0s\n",
      "\u001b[36m(<lambda> pid=10052)\u001b[0m 1/1 [==============================] - 0s 283ms/step\n",
      "\u001b[36m(<lambda> pid=10052)\u001b[0m Epoch 69/1000\u001b[32m [repeated 27x across cluster]\u001b[0m\n"
     ]
    },
    {
     "name": "stderr",
     "output_type": "stream",
     "text": [
      "\u001b[36m(<lambda> pid=21848)\u001b[0m WARNING:tensorflow:5 out of the last 5 calls to <function Model.make_predict_function.<locals>.predict_function at 0x0000022EFAD99670> triggered tf.function retracing. Tracing is expensive and the excessive number of tracings could be due to (1) creating @tf.function repeatedly in a loop, (2) passing tensors with different shapes, (3) passing Python objects instead of tensors. For (1), please define your @tf.function outside of the loop. For (2), @tf.function has reduce_retracing=True option that can avoid unnecessary retracing. For (3), please refer to https://www.tensorflow.org/guide/function#controlling_retracing and https://www.tensorflow.org/api_docs/python/tf/function for  more details.\u001b[32m [repeated 2x across cluster]\u001b[0m\n"
     ]
    },
    {
     "name": "stdout",
     "output_type": "stream",
     "text": [
      "\u001b[36m(<lambda> pid=21848)\u001b[0m Average MSE: 148.16468811035156 +/- 134.33331298828125\n",
      "\u001b[36m(<lambda> pid=10052)\u001b[0m \u001b[32m [repeated 41x across cluster]\u001b[0m\n",
      "\u001b[36m(<lambda> pid=10052)\u001b[0m 1/2 [==============>...............] - ETA: 0s - loss: 118.9159\u001b[32m [repeated 17x across cluster]\u001b[0m\n",
      "\u001b[36m(<lambda> pid=10052)\u001b[0m 2/2 [==============================] - ETA: 0s - loss: 243.5069\u001b[32m [repeated 16x across cluster]\u001b[0m\n",
      "\u001b[36m(<lambda> pid=10052)\u001b[0m 2/2 [==============================] - 0s 80ms/step - loss: 240.8514 - val_loss: 157.9106\u001b[32m [repeated 17x across cluster]\u001b[0m\n",
      "\u001b[36m(<lambda> pid=21848)\u001b[0m 1/1 [==============================] - ETA: 0s\n",
      "\u001b[36m(<lambda> pid=21848)\u001b[0m 1/1 [==============================] - 0s 463ms/step\n",
      "\u001b[36m(<lambda> pid=10052)\u001b[0m Epoch 24/1000\u001b[32m [repeated 24x across cluster]\u001b[0m\n",
      "\u001b[36m(<lambda> pid=10052)\u001b[0m \u001b[32m [repeated 61x across cluster]\u001b[0m\n",
      "\u001b[36m(<lambda> pid=10052)\u001b[0m 1/2 [==============>...............] - ETA: 0s - loss: 389.9049\u001b[32m [repeated 37x across cluster]\u001b[0m\n",
      "\u001b[36m(<lambda> pid=10052)\u001b[0m 2/2 [==============================] - ETA: 0s - loss: 229.2708\u001b[32m [repeated 21x across cluster]\u001b[0m\n",
      "\u001b[36m(<lambda> pid=10052)\u001b[0m 2/2 [==============================] - 0s 80ms/step - loss: 227.4835 - val_loss: 143.7254\u001b[32m [repeated 37x across cluster]\u001b[0m\n",
      "\u001b[36m(<lambda> pid=10052)\u001b[0m Epoch 60/1000\u001b[32m [repeated 36x across cluster]\u001b[0m\n",
      "\u001b[36m(<lambda> pid=10052)\u001b[0m \u001b[32m [repeated 72x across cluster]\u001b[0m\n",
      "\u001b[36m(<lambda> pid=10052)\u001b[0m 1/2 [==============>...............] - ETA: 0s - loss: 180.5110\u001b[32m [repeated 37x across cluster]\u001b[0m\n",
      "\u001b[36m(<lambda> pid=10052)\u001b[0m 2/2 [==============================] - ETA: 0s - loss: 189.4755\u001b[32m [repeated 22x across cluster]\u001b[0m\n",
      "\u001b[36m(<lambda> pid=10052)\u001b[0m 2/2 [==============================] - 0s 85ms/step - loss: 179.8208 - val_loss: 103.1107\u001b[32m [repeated 37x across cluster]\u001b[0m\n",
      "\u001b[36m(<lambda> pid=10052)\u001b[0m Epoch 97/1000\u001b[32m [repeated 37x across cluster]\u001b[0m\n",
      "\u001b[36m(<lambda> pid=10052)\u001b[0m 1/1 [==============================] - ETA: 0s\n",
      "\u001b[36m(<lambda> pid=10052)\u001b[0m 1/1 [==============================] - 0s 253ms/step\n",
      "\u001b[36m(<lambda> pid=10052)\u001b[0m Average MSE: 181.55311584472656 +/- 124.6558837890625\n"
     ]
    },
    {
     "name": "stderr",
     "output_type": "stream",
     "text": [
      "\u001b[36m(<lambda> pid=10052)\u001b[0m WARNING:tensorflow:5 out of the last 5 calls to <function Model.make_predict_function.<locals>.predict_function at 0x000001E8427CB940> triggered tf.function retracing. Tracing is expensive and the excessive number of tracings could be due to (1) creating @tf.function repeatedly in a loop, (2) passing tensors with different shapes, (3) passing Python objects instead of tensors. For (1), please define your @tf.function outside of the loop. For (2), @tf.function has reduce_retracing=True option that can avoid unnecessary retracing. For (3), please refer to https://www.tensorflow.org/guide/function#controlling_retracing and https://www.tensorflow.org/api_docs/python/tf/function for  more details.\n",
      "2023-11-21 23:01:32,159\tINFO tune.py:1047 -- Total run time: 110.30 seconds (110.20 seconds for the tuning loop).\n"
     ]
    },
    {
     "name": "stdout",
     "output_type": "stream",
     "text": [
      "Best configuration for cnn_lstm: {'model_type': 'cnn_lstm', 'learning_rate': 0.1, 'conv_units': 64, 'lstm_units': [128, 64], 'dense_units': [50]}\n",
      "Epoch 1/1000\n",
      "2/2 [==============================] - 4s 714ms/step - loss: 111.6769 - val_loss: 572.7919\n",
      "Epoch 2/1000\n",
      "2/2 [==============================] - 0s 249ms/step - loss: 99.6524 - val_loss: 572.8398\n",
      "Epoch 3/1000\n",
      "2/2 [==============================] - 0s 233ms/step - loss: 70.8760 - val_loss: 574.9395\n",
      "Epoch 4/1000\n",
      "2/2 [==============================] - 0s 233ms/step - loss: 55.7993 - val_loss: 587.7890\n",
      "Epoch 5/1000\n",
      "2/2 [==============================] - 0s 237ms/step - loss: 46.0292 - val_loss: 607.3929\n",
      "Epoch 6/1000\n",
      "2/2 [==============================] - 0s 231ms/step - loss: 45.4705 - val_loss: 574.6301\n",
      "Model saved to models/best_cnn_lstm.h5\n"
     ]
    },
    {
     "name": "stderr",
     "output_type": "stream",
     "text": [
      "c:\\Users\\bianc\\sct_6.0\\python\\envs\\venv_sct\\myenv\\lib\\site-packages\\keras\\src\\engine\\training.py:3000: UserWarning: You are saving your model as an HDF5 file via `model.save()`. This file format is considered legacy. We recommend using instead the native Keras format, e.g. `model.save('my_model.keras')`.\n",
      "  saving_api.save_model(\n"
     ]
    },
    {
     "name": "stdout",
     "output_type": "stream",
     "text": [
      "1/1 [==============================] - 0s 467ms/step\n",
      "Baseline MSE (predicting mean): 22.42984962463379\n",
      "MSE: 28.175973892211914\n",
      "MSE confidence interval: (13.087662315368652, 46.715502643585204)\n",
      "Found existing MSE for cnn_lstm: 16.305843353271484\n"
     ]
    },
    {
     "data": {
      "image/png": "[encoded data removed]",
      "text/plain": [
       "<Figure size 640x480 with 1 Axes>"
      ]
     },
     "metadata": {},
     "output_type": "display_data"
    },
    {
     "data": {
      "image/png": "[encoded data removed]",
      "text/plain": [
       "<Figure size 640x480 with 1 Axes>"
      ]
     },
     "metadata": {},
     "output_type": "display_data"
    }
   ],
   "source": [
    "from prepare_data import split_patient_samples, preprocess_data\n",
    "from tune_hyperparameters import optimize_hyperparameters\n",
    "from confidence_interval import bootstrap_confidence_interval\n",
    "from train_model import train_model\n",
    "from load_and_save_model import save_model\n",
    "from mse_with_constant_prediction import calculate_baseline_mse\n",
    "from utils import update_best_configuration, load_best_configuration, update_mse_with_confidence_interval\n",
    "from sklearn.metrics import mean_squared_error\n",
    "from visualize_results import residuals_plot, actual_vs_predicted_plot\n",
    "\n",
    "# Model selection\n",
    "model_type = 'cnn_lstm' # Options: 'cnn', 'lstm', 'cnn_lstm', 'random_forest', 'gradient_boosting'\n",
    "\n",
    "# Load the dataset\n",
    "data_splits = split_patient_samples()\n",
    "X_train, X_test, y_train, y_test = preprocess_data(data_splits, model_type)\n",
    "\n",
    "optimize_params = True # Add to args\n",
    "\n",
    "if optimize_params:\n",
    "    print(f'Optimizing hyperparameters for {model_type}...')\n",
    "    best_scores, best_models = optimize_hyperparameters(X_train, y_train, model_type)\n",
    "    config = best_models[model_type]\n",
    "    print(f'Best configuration for {model_type}: {config}')\n",
    "    update_best_configuration(model_type, config, best_scores)\n",
    "else:\n",
    "    print(f'Loading best configuration for model {model_type} from file...')\n",
    "    config = load_best_configuration(model_type)\n",
    "\n",
    "# Fit best model on entire training data\n",
    "model = train_model(config, X_train, y_train)\n",
    "\n",
    "# Save the model\n",
    "save_model(model, model_type)\n",
    "\n",
    "# Generate predictions\n",
    "y_pred = model.predict(X_test)\n",
    "\n",
    "# Calculate MSE\n",
    "mse = mean_squared_error(y_test, y_pred)\n",
    "\n",
    "# Bootstrap confidence interval to MSE\n",
    "mse_ci = bootstrap_confidence_interval(model, X_test, y_test)\n",
    "\n",
    "# Print the baseline MSE, MSE and MSE confidence interval\n",
    "baseline_mse = calculate_baseline_mse(y_train, y_test)\n",
    "print(f\"Baseline MSE (predicting mean): {baseline_mse}\")\n",
    "print(f'MSE: {mse}')\n",
    "print(f'MSE confidence interval: {mse_ci}')\n",
    "\n",
    "# Save the results to a CSV file\n",
    "update_mse_with_confidence_interval(model_type, mse, mse_ci)\n",
    "\n",
    "# Plot residuals\n",
    "residuals_plot(y_test, y_pred, model_type)\n",
    "\n",
    "# Plot actual vs predicted\n",
    "actual_vs_predicted_plot(y_test, y_pred, model_type)"
   ]
  }
 ],
 "metadata": {
  "kernelspec": {
   "display_name": "Python 3",
   "language": "python",
   "name": "python3"
  },
  "language_info": {
   "codemirror_mode": {
    "name": "ipython",
    "version": 3
   },
   "file_extension": ".py",
   "mimetype": "text/x-python",
   "name": "python",
   "nbconvert_exporter": "python",
   "pygments_lexer": "ipython3",
   "version": "3.9.18"
  }
 },
 "nbformat": 4,
 "nbformat_minor": 2
}
