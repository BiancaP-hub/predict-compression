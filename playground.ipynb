{
 "cells": [
  {
   "cell_type": "code",
   "execution_count": 1,
   "metadata": {},
   "outputs": [
    {
     "name": "stderr",
     "output_type": "stream",
     "text": [
      "2023-11-25 20:48:59,771\tINFO util.py:159 -- Missing packages: ['ipywidgets']. Run `pip install -U ipywidgets`, then restart the notebook server for rich notebook output.\n",
      "2023-11-25 20:48:59,878\tINFO util.py:159 -- Missing packages: ['ipywidgets']. Run `pip install -U ipywidgets`, then restart the notebook server for rich notebook output.\n"
     ]
    },
    {
     "name": "stdout",
     "output_type": "stream",
     "text": [
      "X_train shape: (78, 256)\n",
      "X_test shape: (20, 256)\n",
      "y_train shape: 78\n",
      "y_test shape: 20\n"
     ]
    },
    {
     "name": "stderr",
     "output_type": "stream",
     "text": [
      "2023-11-25 20:49:02,586\tINFO worker.py:1673 -- Started a local Ray instance.\n",
      "2023-11-25 20:49:03,774\tINFO tune.py:220 -- Initializing Ray automatically. For cluster usage or custom Ray initialization, call `ray.init(...)` before `tune.run(...)`.\n",
      "2023-11-25 20:49:03,776\tINFO tune.py:586 -- [output] This uses the legacy output and progress reporter, as Jupyter notebooks are not supported by the new engine, yet. For more information, please see https://github.com/ray-project/ray/issues/36949\n"
     ]
    },
    {
     "data": {
      "text/html": [
       "<div class=\"tuneStatus\">\n",
       "  <div style=\"display: flex;flex-direction: row\">\n",
       "    <div style=\"display: flex;flex-direction: column;\">\n",
       "      <h3>Tune Status</h3>\n",
       "      <table>\n",
       "<tbody>\n",
       "<tr><td>Current time:</td><td>2023-11-25 20:49:14</td></tr>\n",
       "<tr><td>Running for: </td><td>00:00:10.50        </td></tr>\n",
       "<tr><td>Memory:      </td><td>14.2/63.9 GiB      </td></tr>\n",
       "</tbody>\n",
       "</table>\n",
       "    </div>\n",
       "    <div class=\"vDivider\"></div>\n",
       "    <div class=\"systemInfo\">\n",
       "      <h3>System Info</h3>\n",
       "      Using HyperBand: num_stopped=0 total_brackets=2<br>Round #0:<br>  Bracket(Max Size (n)=5, Milestone (r)=81, completed=100.0%): {TERMINATED: 5} <br>  Bracket(Max Size (n)=3, Milestone (r)=81, completed=100.0%): {TERMINATED: 5} <br>Logical resource usage: 1.0/16 CPUs, 0/1 GPUs\n",
       "    </div>\n",
       "    \n",
       "  </div>\n",
       "  <div class=\"hDivider\"></div>\n",
       "  <div class=\"trialStatus\">\n",
       "    <h3>Trial Status</h3>\n",
       "    <table>\n",
       "<thead>\n",
       "<tr><th>Trial name        </th><th>status    </th><th>loc            </th><th style=\"text-align: right;\">  max_depth</th><th style=\"text-align: right;\">  min_samples_leaf</th><th style=\"text-align: right;\">  min_samples_split</th><th>model_type   </th><th style=\"text-align: right;\">  n_estimators</th><th style=\"text-align: right;\">  iter</th><th style=\"text-align: right;\">  total time (s)</th><th style=\"text-align: right;\">  mean_squared_error</th></tr>\n",
       "</thead>\n",
       "<tbody>\n",
       "<tr><td>lambda_fa535_00000</td><td>TERMINATED</td><td>127.0.0.1:7028 </td><td style=\"text-align: right;\">         20</td><td style=\"text-align: right;\">                 2</td><td style=\"text-align: right;\">                 10</td><td>random_forest</td><td style=\"text-align: right;\">           300</td><td style=\"text-align: right;\">     1</td><td style=\"text-align: right;\">        2.484   </td><td style=\"text-align: right;\">             201.989</td></tr>\n",
       "<tr><td>lambda_fa535_00001</td><td>TERMINATED</td><td>127.0.0.1:23788</td><td style=\"text-align: right;\">         20</td><td style=\"text-align: right;\">                 1</td><td style=\"text-align: right;\">                  5</td><td>random_forest</td><td style=\"text-align: right;\">           200</td><td style=\"text-align: right;\">     1</td><td style=\"text-align: right;\">        2.359   </td><td style=\"text-align: right;\">             210.854</td></tr>\n",
       "<tr><td>lambda_fa535_00002</td><td>TERMINATED</td><td>127.0.0.1:18184</td><td style=\"text-align: right;\">         10</td><td style=\"text-align: right;\">                 2</td><td style=\"text-align: right;\">                 10</td><td>random_forest</td><td style=\"text-align: right;\">           200</td><td style=\"text-align: right;\">     1</td><td style=\"text-align: right;\">        1.735   </td><td style=\"text-align: right;\">             202.607</td></tr>\n",
       "<tr><td>lambda_fa535_00003</td><td>TERMINATED</td><td>127.0.0.1:26096</td><td style=\"text-align: right;\">         30</td><td style=\"text-align: right;\">                 2</td><td style=\"text-align: right;\">                  2</td><td>random_forest</td><td style=\"text-align: right;\">           300</td><td style=\"text-align: right;\">     1</td><td style=\"text-align: right;\">        3.252   </td><td style=\"text-align: right;\">             203.461</td></tr>\n",
       "<tr><td>lambda_fa535_00004</td><td>TERMINATED</td><td>127.0.0.1:7120 </td><td style=\"text-align: right;\">         20</td><td style=\"text-align: right;\">                 4</td><td style=\"text-align: right;\">                  2</td><td>random_forest</td><td style=\"text-align: right;\">           200</td><td style=\"text-align: right;\">     1</td><td style=\"text-align: right;\">        1.62    </td><td style=\"text-align: right;\">             192.671</td></tr>\n",
       "<tr><td>lambda_fa535_00005</td><td>TERMINATED</td><td>127.0.0.1:29444</td><td style=\"text-align: right;\">         30</td><td style=\"text-align: right;\">                 2</td><td style=\"text-align: right;\">                  2</td><td>random_forest</td><td style=\"text-align: right;\">           300</td><td style=\"text-align: right;\">     1</td><td style=\"text-align: right;\">        3.143   </td><td style=\"text-align: right;\">             203.461</td></tr>\n",
       "<tr><td>lambda_fa535_00006</td><td>TERMINATED</td><td>127.0.0.1:24580</td><td style=\"text-align: right;\">         20</td><td style=\"text-align: right;\">                 4</td><td style=\"text-align: right;\">                 10</td><td>random_forest</td><td style=\"text-align: right;\">           100</td><td style=\"text-align: right;\">     1</td><td style=\"text-align: right;\">        0.787   </td><td style=\"text-align: right;\">             196.886</td></tr>\n",
       "<tr><td>lambda_fa535_00007</td><td>TERMINATED</td><td>127.0.0.1:1524 </td><td style=\"text-align: right;\">         20</td><td style=\"text-align: right;\">                 2</td><td style=\"text-align: right;\">                 10</td><td>random_forest</td><td style=\"text-align: right;\">           100</td><td style=\"text-align: right;\">     1</td><td style=\"text-align: right;\">        0.899001</td><td style=\"text-align: right;\">             207.612</td></tr>\n",
       "<tr><td>lambda_fa535_00008</td><td>TERMINATED</td><td>127.0.0.1:33864</td><td style=\"text-align: right;\">         20</td><td style=\"text-align: right;\">                 2</td><td style=\"text-align: right;\">                  5</td><td>random_forest</td><td style=\"text-align: right;\">           200</td><td style=\"text-align: right;\">     1</td><td style=\"text-align: right;\">        2.121   </td><td style=\"text-align: right;\">             204.215</td></tr>\n",
       "<tr><td>lambda_fa535_00009</td><td>TERMINATED</td><td>127.0.0.1:34460</td><td style=\"text-align: right;\">         20</td><td style=\"text-align: right;\">                 4</td><td style=\"text-align: right;\">                  2</td><td>random_forest</td><td style=\"text-align: right;\">           300</td><td style=\"text-align: right;\">     1</td><td style=\"text-align: right;\">        2.392   </td><td style=\"text-align: right;\">             193.288</td></tr>\n",
       "</tbody>\n",
       "</table>\n",
       "  </div>\n",
       "</div>\n",
       "<style>\n",
       ".tuneStatus {\n",
       "  color: var(--jp-ui-font-color1);\n",
       "}\n",
       ".tuneStatus .systemInfo {\n",
       "  display: flex;\n",
       "  flex-direction: column;\n",
       "}\n",
       ".tuneStatus td {\n",
       "  white-space: nowrap;\n",
       "}\n",
       ".tuneStatus .trialStatus {\n",
       "  display: flex;\n",
       "  flex-direction: column;\n",
       "}\n",
       ".tuneStatus h3 {\n",
       "  font-weight: bold;\n",
       "}\n",
       ".tuneStatus .hDivider {\n",
       "  border-bottom-width: var(--jp-border-width);\n",
       "  border-bottom-color: var(--jp-border-color0);\n",
       "  border-bottom-style: solid;\n",
       "}\n",
       ".tuneStatus .vDivider {\n",
       "  border-left-width: var(--jp-border-width);\n",
       "  border-left-color: var(--jp-border-color0);\n",
       "  border-left-style: solid;\n",
       "  margin: 0.5em 1em 0.5em 1em;\n",
       "}\n",
       "</style>\n"
      ],
      "text/plain": [
       "<IPython.core.display.HTML object>"
      ]
     },
     "metadata": {},
     "output_type": "display_data"
    },
    {
     "data": {
      "text/html": [
       "<div class=\"trialProgress\">\n",
       "  <h3>Trial Progress</h3>\n",
       "  <table>\n",
       "<thead>\n",
       "<tr><th>Trial name        </th><th style=\"text-align: right;\">  mean_squared_error</th></tr>\n",
       "</thead>\n",
       "<tbody>\n",
       "<tr><td>lambda_fa535_00000</td><td style=\"text-align: right;\">             201.989</td></tr>\n",
       "<tr><td>lambda_fa535_00001</td><td style=\"text-align: right;\">             210.854</td></tr>\n",
       "<tr><td>lambda_fa535_00002</td><td style=\"text-align: right;\">             202.607</td></tr>\n",
       "<tr><td>lambda_fa535_00003</td><td style=\"text-align: right;\">             203.461</td></tr>\n",
       "<tr><td>lambda_fa535_00004</td><td style=\"text-align: right;\">             192.671</td></tr>\n",
       "<tr><td>lambda_fa535_00005</td><td style=\"text-align: right;\">             203.461</td></tr>\n",
       "<tr><td>lambda_fa535_00006</td><td style=\"text-align: right;\">             196.886</td></tr>\n",
       "<tr><td>lambda_fa535_00007</td><td style=\"text-align: right;\">             207.612</td></tr>\n",
       "<tr><td>lambda_fa535_00008</td><td style=\"text-align: right;\">             204.215</td></tr>\n",
       "<tr><td>lambda_fa535_00009</td><td style=\"text-align: right;\">             193.288</td></tr>\n",
       "</tbody>\n",
       "</table>\n",
       "</div>\n",
       "<style>\n",
       ".trialProgress {\n",
       "  display: flex;\n",
       "  flex-direction: column;\n",
       "  color: var(--jp-ui-font-color1);\n",
       "}\n",
       ".trialProgress h3 {\n",
       "  font-weight: bold;\n",
       "}\n",
       ".trialProgress td {\n",
       "  white-space: nowrap;\n",
       "}\n",
       "</style>\n"
      ],
      "text/plain": [
       "<IPython.core.display.HTML object>"
      ]
     },
     "metadata": {},
     "output_type": "display_data"
    },
    {
     "name": "stdout",
     "output_type": "stream",
     "text": [
      "\u001b[36m(<lambda> pid=24580)\u001b[0m Average MSE: 196.88600472065937 +/- 189.89136071644\n"
     ]
    },
    {
     "name": "stderr",
     "output_type": "stream",
     "text": [
      "2023-11-25 20:49:14,313\tINFO tune.py:1047 -- Total run time: 10.54 seconds (10.49 seconds for the tuning loop).\n",
      "2023-11-25 20:49:14,649\tINFO tune.py:586 -- [output] This uses the legacy output and progress reporter, as Jupyter notebooks are not supported by the new engine, yet. For more information, please see https://github.com/ray-project/ray/issues/36949\n"
     ]
    },
    {
     "name": "stdout",
     "output_type": "stream",
     "text": [
      "X_train shape: (78, 256)\n",
      "X_test shape: (20, 256)\n",
      "y_train shape: 78\n",
      "y_test shape: 20\n"
     ]
    },
    {
     "data": {
      "text/html": [
       "<div class=\"tuneStatus\">\n",
       "  <div style=\"display: flex;flex-direction: row\">\n",
       "    <div style=\"display: flex;flex-direction: column;\">\n",
       "      <h3>Tune Status</h3>\n",
       "      <table>\n",
       "<tbody>\n",
       "<tr><td>Current time:</td><td>2023-11-25 20:49:28</td></tr>\n",
       "<tr><td>Running for: </td><td>00:00:13.97        </td></tr>\n",
       "<tr><td>Memory:      </td><td>14.1/63.9 GiB      </td></tr>\n",
       "</tbody>\n",
       "</table>\n",
       "    </div>\n",
       "    <div class=\"vDivider\"></div>\n",
       "    <div class=\"systemInfo\">\n",
       "      <h3>System Info</h3>\n",
       "      Using HyperBand: num_stopped=0 total_brackets=2<br>Round #0:<br>  Bracket(Max Size (n)=5, Milestone (r)=81, completed=100.0%): {TERMINATED: 5} <br>  Bracket(Max Size (n)=3, Milestone (r)=81, completed=100.0%): {TERMINATED: 5} <br>Logical resource usage: 1.0/16 CPUs, 0/1 GPUs\n",
       "    </div>\n",
       "    \n",
       "  </div>\n",
       "  <div class=\"hDivider\"></div>\n",
       "  <div class=\"trialStatus\">\n",
       "    <h3>Trial Status</h3>\n",
       "    <table>\n",
       "<thead>\n",
       "<tr><th>Trial name        </th><th>status    </th><th>loc            </th><th style=\"text-align: right;\">  max_depth</th><th style=\"text-align: right;\">  min_samples_leaf</th><th style=\"text-align: right;\">  min_samples_split</th><th>model_type   </th><th style=\"text-align: right;\">  n_estimators</th><th style=\"text-align: right;\">  iter</th><th style=\"text-align: right;\">  total time (s)</th><th style=\"text-align: right;\">  mean_squared_error</th></tr>\n",
       "</thead>\n",
       "<tbody>\n",
       "<tr><td>lambda_00ce2_00000</td><td>TERMINATED</td><td>127.0.0.1:9648 </td><td style=\"text-align: right;\">         30</td><td style=\"text-align: right;\">                 4</td><td style=\"text-align: right;\">                  2</td><td>random_forest</td><td style=\"text-align: right;\">           100</td><td style=\"text-align: right;\">     1</td><td style=\"text-align: right;\">         1.79851</td><td style=\"text-align: right;\">             169.906</td></tr>\n",
       "<tr><td>lambda_00ce2_00001</td><td>TERMINATED</td><td>127.0.0.1:27856</td><td style=\"text-align: right;\">         10</td><td style=\"text-align: right;\">                 4</td><td style=\"text-align: right;\">                 10</td><td>random_forest</td><td style=\"text-align: right;\">           100</td><td style=\"text-align: right;\">     1</td><td style=\"text-align: right;\">         1.84535</td><td style=\"text-align: right;\">             170.202</td></tr>\n",
       "<tr><td>lambda_00ce2_00002</td><td>TERMINATED</td><td>127.0.0.1:25248</td><td style=\"text-align: right;\">         20</td><td style=\"text-align: right;\">                 2</td><td style=\"text-align: right;\">                 10</td><td>random_forest</td><td style=\"text-align: right;\">           300</td><td style=\"text-align: right;\">     1</td><td style=\"text-align: right;\">         5.76452</td><td style=\"text-align: right;\">             172.426</td></tr>\n",
       "<tr><td>lambda_00ce2_00003</td><td>TERMINATED</td><td>127.0.0.1:8716 </td><td style=\"text-align: right;\">         20</td><td style=\"text-align: right;\">                 2</td><td style=\"text-align: right;\">                  2</td><td>random_forest</td><td style=\"text-align: right;\">           200</td><td style=\"text-align: right;\">     1</td><td style=\"text-align: right;\">         5.00452</td><td style=\"text-align: right;\">             172.041</td></tr>\n",
       "<tr><td>lambda_00ce2_00004</td><td>TERMINATED</td><td>127.0.0.1:8332 </td><td style=\"text-align: right;\">         30</td><td style=\"text-align: right;\">                 2</td><td style=\"text-align: right;\">                  5</td><td>random_forest</td><td style=\"text-align: right;\">           300</td><td style=\"text-align: right;\">     1</td><td style=\"text-align: right;\">         6.76753</td><td style=\"text-align: right;\">             172.548</td></tr>\n",
       "<tr><td>lambda_00ce2_00005</td><td>TERMINATED</td><td>127.0.0.1:32936</td><td style=\"text-align: right;\">         20</td><td style=\"text-align: right;\">                 2</td><td style=\"text-align: right;\">                  5</td><td>random_forest</td><td style=\"text-align: right;\">           300</td><td style=\"text-align: right;\">     1</td><td style=\"text-align: right;\">         6.71352</td><td style=\"text-align: right;\">             172.548</td></tr>\n",
       "<tr><td>lambda_00ce2_00006</td><td>TERMINATED</td><td>127.0.0.1:17452</td><td style=\"text-align: right;\">         30</td><td style=\"text-align: right;\">                 1</td><td style=\"text-align: right;\">                  5</td><td>random_forest</td><td style=\"text-align: right;\">           200</td><td style=\"text-align: right;\">     1</td><td style=\"text-align: right;\">         5.36752</td><td style=\"text-align: right;\">             171.199</td></tr>\n",
       "<tr><td>lambda_00ce2_00007</td><td>TERMINATED</td><td>127.0.0.1:25372</td><td style=\"text-align: right;\">         30</td><td style=\"text-align: right;\">                 1</td><td style=\"text-align: right;\">                  2</td><td>random_forest</td><td style=\"text-align: right;\">           200</td><td style=\"text-align: right;\">     1</td><td style=\"text-align: right;\">         6.74053</td><td style=\"text-align: right;\">             171.28 </td></tr>\n",
       "<tr><td>lambda_00ce2_00008</td><td>TERMINATED</td><td>127.0.0.1:26960</td><td style=\"text-align: right;\">         10</td><td style=\"text-align: right;\">                 4</td><td style=\"text-align: right;\">                  2</td><td>random_forest</td><td style=\"text-align: right;\">           200</td><td style=\"text-align: right;\">     1</td><td style=\"text-align: right;\">         3.53451</td><td style=\"text-align: right;\">             168.037</td></tr>\n",
       "<tr><td>lambda_00ce2_00009</td><td>TERMINATED</td><td>127.0.0.1:31524</td><td style=\"text-align: right;\">         30</td><td style=\"text-align: right;\">                 4</td><td style=\"text-align: right;\">                  2</td><td>random_forest</td><td style=\"text-align: right;\">           200</td><td style=\"text-align: right;\">     1</td><td style=\"text-align: right;\">         3.61351</td><td style=\"text-align: right;\">             168.037</td></tr>\n",
       "</tbody>\n",
       "</table>\n",
       "  </div>\n",
       "</div>\n",
       "<style>\n",
       ".tuneStatus {\n",
       "  color: var(--jp-ui-font-color1);\n",
       "}\n",
       ".tuneStatus .systemInfo {\n",
       "  display: flex;\n",
       "  flex-direction: column;\n",
       "}\n",
       ".tuneStatus td {\n",
       "  white-space: nowrap;\n",
       "}\n",
       ".tuneStatus .trialStatus {\n",
       "  display: flex;\n",
       "  flex-direction: column;\n",
       "}\n",
       ".tuneStatus h3 {\n",
       "  font-weight: bold;\n",
       "}\n",
       ".tuneStatus .hDivider {\n",
       "  border-bottom-width: var(--jp-border-width);\n",
       "  border-bottom-color: var(--jp-border-color0);\n",
       "  border-bottom-style: solid;\n",
       "}\n",
       ".tuneStatus .vDivider {\n",
       "  border-left-width: var(--jp-border-width);\n",
       "  border-left-color: var(--jp-border-color0);\n",
       "  border-left-style: solid;\n",
       "  margin: 0.5em 1em 0.5em 1em;\n",
       "}\n",
       "</style>\n"
      ],
      "text/plain": [
       "<IPython.core.display.HTML object>"
      ]
     },
     "metadata": {},
     "output_type": "display_data"
    },
    {
     "data": {
      "text/html": [
       "<div class=\"trialProgress\">\n",
       "  <h3>Trial Progress</h3>\n",
       "  <table>\n",
       "<thead>\n",
       "<tr><th>Trial name        </th><th style=\"text-align: right;\">  mean_squared_error</th></tr>\n",
       "</thead>\n",
       "<tbody>\n",
       "<tr><td>lambda_00ce2_00000</td><td style=\"text-align: right;\">             169.906</td></tr>\n",
       "<tr><td>lambda_00ce2_00001</td><td style=\"text-align: right;\">             170.202</td></tr>\n",
       "<tr><td>lambda_00ce2_00002</td><td style=\"text-align: right;\">             172.426</td></tr>\n",
       "<tr><td>lambda_00ce2_00003</td><td style=\"text-align: right;\">             172.041</td></tr>\n",
       "<tr><td>lambda_00ce2_00004</td><td style=\"text-align: right;\">             172.548</td></tr>\n",
       "<tr><td>lambda_00ce2_00005</td><td style=\"text-align: right;\">             172.548</td></tr>\n",
       "<tr><td>lambda_00ce2_00006</td><td style=\"text-align: right;\">             171.199</td></tr>\n",
       "<tr><td>lambda_00ce2_00007</td><td style=\"text-align: right;\">             171.28 </td></tr>\n",
       "<tr><td>lambda_00ce2_00008</td><td style=\"text-align: right;\">             168.037</td></tr>\n",
       "<tr><td>lambda_00ce2_00009</td><td style=\"text-align: right;\">             168.037</td></tr>\n",
       "</tbody>\n",
       "</table>\n",
       "</div>\n",
       "<style>\n",
       ".trialProgress {\n",
       "  display: flex;\n",
       "  flex-direction: column;\n",
       "  color: var(--jp-ui-font-color1);\n",
       "}\n",
       ".trialProgress h3 {\n",
       "  font-weight: bold;\n",
       "}\n",
       ".trialProgress td {\n",
       "  white-space: nowrap;\n",
       "}\n",
       "</style>\n"
      ],
      "text/plain": [
       "<IPython.core.display.HTML object>"
      ]
     },
     "metadata": {},
     "output_type": "display_data"
    },
    {
     "name": "stdout",
     "output_type": "stream",
     "text": [
      "\u001b[36m(<lambda> pid=27856)\u001b[0m Average MSE: 170.20249513960556 +/- 161.41568280211285\u001b[32m [repeated 10x across cluster] (Ray deduplicates logs by default. Set RAY_DEDUP_LOGS=0 to disable log deduplication, or see https://docs.ray.io/en/master/ray-observability/ray-logging.html#log-deduplication for more options.)\u001b[0m\n"
     ]
    },
    {
     "name": "stderr",
     "output_type": "stream",
     "text": [
      "2023-11-25 20:49:28,634\tINFO tune.py:1047 -- Total run time: 13.98 seconds (13.96 seconds for the tuning loop).\n",
      "2023-11-25 20:49:29,402\tINFO tune.py:586 -- [output] This uses the legacy output and progress reporter, as Jupyter notebooks are not supported by the new engine, yet. For more information, please see https://github.com/ray-project/ray/issues/36949\n"
     ]
    },
    {
     "name": "stdout",
     "output_type": "stream",
     "text": [
      "X_train shape: (78, 256)\n",
      "X_test shape: (20, 256)\n",
      "y_train shape: 78\n",
      "y_test shape: 20\n"
     ]
    },
    {
     "data": {
      "text/html": [
       "<div class=\"tuneStatus\">\n",
       "  <div style=\"display: flex;flex-direction: row\">\n",
       "    <div style=\"display: flex;flex-direction: column;\">\n",
       "      <h3>Tune Status</h3>\n",
       "      <table>\n",
       "<tbody>\n",
       "<tr><td>Current time:</td><td>2023-11-25 20:49:46</td></tr>\n",
       "<tr><td>Running for: </td><td>00:00:16.74        </td></tr>\n",
       "<tr><td>Memory:      </td><td>13.9/63.9 GiB      </td></tr>\n",
       "</tbody>\n",
       "</table>\n",
       "    </div>\n",
       "    <div class=\"vDivider\"></div>\n",
       "    <div class=\"systemInfo\">\n",
       "      <h3>System Info</h3>\n",
       "      Using HyperBand: num_stopped=0 total_brackets=2<br>Round #0:<br>  Bracket(Max Size (n)=5, Milestone (r)=81, completed=100.0%): {TERMINATED: 5} <br>  Bracket(Max Size (n)=3, Milestone (r)=81, completed=100.0%): {TERMINATED: 5} <br>Logical resource usage: 1.0/16 CPUs, 0/1 GPUs\n",
       "    </div>\n",
       "    \n",
       "  </div>\n",
       "  <div class=\"hDivider\"></div>\n",
       "  <div class=\"trialStatus\">\n",
       "    <h3>Trial Status</h3>\n",
       "    <table>\n",
       "<thead>\n",
       "<tr><th>Trial name        </th><th>status    </th><th>loc            </th><th style=\"text-align: right;\">  max_depth</th><th style=\"text-align: right;\">  min_samples_leaf</th><th style=\"text-align: right;\">  min_samples_split</th><th>model_type   </th><th style=\"text-align: right;\">  n_estimators</th><th style=\"text-align: right;\">  iter</th><th style=\"text-align: right;\">  total time (s)</th><th style=\"text-align: right;\">  mean_squared_error</th></tr>\n",
       "</thead>\n",
       "<tbody>\n",
       "<tr><td>lambda_09995_00000</td><td>TERMINATED</td><td>127.0.0.1:9644 </td><td style=\"text-align: right;\">         20</td><td style=\"text-align: right;\">                 2</td><td style=\"text-align: right;\">                  2</td><td>random_forest</td><td style=\"text-align: right;\">           200</td><td style=\"text-align: right;\">     1</td><td style=\"text-align: right;\">         5.00702</td><td style=\"text-align: right;\">             164.646</td></tr>\n",
       "<tr><td>lambda_09995_00001</td><td>TERMINATED</td><td>127.0.0.1:4960 </td><td style=\"text-align: right;\">         20</td><td style=\"text-align: right;\">                 4</td><td style=\"text-align: right;\">                  2</td><td>random_forest</td><td style=\"text-align: right;\">           100</td><td style=\"text-align: right;\">     1</td><td style=\"text-align: right;\">         1.98651</td><td style=\"text-align: right;\">             152.67 </td></tr>\n",
       "<tr><td>lambda_09995_00002</td><td>TERMINATED</td><td>127.0.0.1:27476</td><td style=\"text-align: right;\">         10</td><td style=\"text-align: right;\">                 2</td><td style=\"text-align: right;\">                  2</td><td>random_forest</td><td style=\"text-align: right;\">           100</td><td style=\"text-align: right;\">     1</td><td style=\"text-align: right;\">         2.88551</td><td style=\"text-align: right;\">             165.611</td></tr>\n",
       "<tr><td>lambda_09995_00003</td><td>TERMINATED</td><td>127.0.0.1:13040</td><td style=\"text-align: right;\">         10</td><td style=\"text-align: right;\">                 4</td><td style=\"text-align: right;\">                  5</td><td>random_forest</td><td style=\"text-align: right;\">           200</td><td style=\"text-align: right;\">     1</td><td style=\"text-align: right;\">         3.44251</td><td style=\"text-align: right;\">             154.743</td></tr>\n",
       "<tr><td>lambda_09995_00004</td><td>TERMINATED</td><td>127.0.0.1:5816 </td><td style=\"text-align: right;\">         10</td><td style=\"text-align: right;\">                 1</td><td style=\"text-align: right;\">                  2</td><td>random_forest</td><td style=\"text-align: right;\">           300</td><td style=\"text-align: right;\">     1</td><td style=\"text-align: right;\">         9.7713 </td><td style=\"text-align: right;\">             170.378</td></tr>\n",
       "<tr><td>lambda_09995_00005</td><td>TERMINATED</td><td>127.0.0.1:26560</td><td style=\"text-align: right;\">         30</td><td style=\"text-align: right;\">                 4</td><td style=\"text-align: right;\">                 10</td><td>random_forest</td><td style=\"text-align: right;\">           100</td><td style=\"text-align: right;\">     1</td><td style=\"text-align: right;\">         1.712  </td><td style=\"text-align: right;\">             152.887</td></tr>\n",
       "<tr><td>lambda_09995_00006</td><td>TERMINATED</td><td>127.0.0.1:7452 </td><td style=\"text-align: right;\">         30</td><td style=\"text-align: right;\">                 4</td><td style=\"text-align: right;\">                 10</td><td>random_forest</td><td style=\"text-align: right;\">           100</td><td style=\"text-align: right;\">     1</td><td style=\"text-align: right;\">         1.78951</td><td style=\"text-align: right;\">             152.887</td></tr>\n",
       "<tr><td>lambda_09995_00007</td><td>TERMINATED</td><td>127.0.0.1:24168</td><td style=\"text-align: right;\">         10</td><td style=\"text-align: right;\">                 1</td><td style=\"text-align: right;\">                 10</td><td>random_forest</td><td style=\"text-align: right;\">           100</td><td style=\"text-align: right;\">     1</td><td style=\"text-align: right;\">         2.62851</td><td style=\"text-align: right;\">             163.443</td></tr>\n",
       "<tr><td>lambda_09995_00008</td><td>TERMINATED</td><td>127.0.0.1:14068</td><td style=\"text-align: right;\">         20</td><td style=\"text-align: right;\">                 1</td><td style=\"text-align: right;\">                 10</td><td>random_forest</td><td style=\"text-align: right;\">           200</td><td style=\"text-align: right;\">     1</td><td style=\"text-align: right;\">         4.63602</td><td style=\"text-align: right;\">             164.423</td></tr>\n",
       "<tr><td>lambda_09995_00009</td><td>TERMINATED</td><td>127.0.0.1:31604</td><td style=\"text-align: right;\">         10</td><td style=\"text-align: right;\">                 2</td><td style=\"text-align: right;\">                  5</td><td>random_forest</td><td style=\"text-align: right;\">           100</td><td style=\"text-align: right;\">     1</td><td style=\"text-align: right;\">         2.80851</td><td style=\"text-align: right;\">             164.987</td></tr>\n",
       "</tbody>\n",
       "</table>\n",
       "  </div>\n",
       "</div>\n",
       "<style>\n",
       ".tuneStatus {\n",
       "  color: var(--jp-ui-font-color1);\n",
       "}\n",
       ".tuneStatus .systemInfo {\n",
       "  display: flex;\n",
       "  flex-direction: column;\n",
       "}\n",
       ".tuneStatus td {\n",
       "  white-space: nowrap;\n",
       "}\n",
       ".tuneStatus .trialStatus {\n",
       "  display: flex;\n",
       "  flex-direction: column;\n",
       "}\n",
       ".tuneStatus h3 {\n",
       "  font-weight: bold;\n",
       "}\n",
       ".tuneStatus .hDivider {\n",
       "  border-bottom-width: var(--jp-border-width);\n",
       "  border-bottom-color: var(--jp-border-color0);\n",
       "  border-bottom-style: solid;\n",
       "}\n",
       ".tuneStatus .vDivider {\n",
       "  border-left-width: var(--jp-border-width);\n",
       "  border-left-color: var(--jp-border-color0);\n",
       "  border-left-style: solid;\n",
       "  margin: 0.5em 1em 0.5em 1em;\n",
       "}\n",
       "</style>\n"
      ],
      "text/plain": [
       "<IPython.core.display.HTML object>"
      ]
     },
     "metadata": {},
     "output_type": "display_data"
    },
    {
     "data": {
      "text/html": [
       "<div class=\"trialProgress\">\n",
       "  <h3>Trial Progress</h3>\n",
       "  <table>\n",
       "<thead>\n",
       "<tr><th>Trial name        </th><th style=\"text-align: right;\">  mean_squared_error</th></tr>\n",
       "</thead>\n",
       "<tbody>\n",
       "<tr><td>lambda_09995_00000</td><td style=\"text-align: right;\">             164.646</td></tr>\n",
       "<tr><td>lambda_09995_00001</td><td style=\"text-align: right;\">             152.67 </td></tr>\n",
       "<tr><td>lambda_09995_00002</td><td style=\"text-align: right;\">             165.611</td></tr>\n",
       "<tr><td>lambda_09995_00003</td><td style=\"text-align: right;\">             154.743</td></tr>\n",
       "<tr><td>lambda_09995_00004</td><td style=\"text-align: right;\">             170.378</td></tr>\n",
       "<tr><td>lambda_09995_00005</td><td style=\"text-align: right;\">             152.887</td></tr>\n",
       "<tr><td>lambda_09995_00006</td><td style=\"text-align: right;\">             152.887</td></tr>\n",
       "<tr><td>lambda_09995_00007</td><td style=\"text-align: right;\">             163.443</td></tr>\n",
       "<tr><td>lambda_09995_00008</td><td style=\"text-align: right;\">             164.423</td></tr>\n",
       "<tr><td>lambda_09995_00009</td><td style=\"text-align: right;\">             164.987</td></tr>\n",
       "</tbody>\n",
       "</table>\n",
       "</div>\n",
       "<style>\n",
       ".trialProgress {\n",
       "  display: flex;\n",
       "  flex-direction: column;\n",
       "  color: var(--jp-ui-font-color1);\n",
       "}\n",
       ".trialProgress h3 {\n",
       "  font-weight: bold;\n",
       "}\n",
       ".trialProgress td {\n",
       "  white-space: nowrap;\n",
       "}\n",
       "</style>\n"
      ],
      "text/plain": [
       "<IPython.core.display.HTML object>"
      ]
     },
     "metadata": {},
     "output_type": "display_data"
    },
    {
     "name": "stdout",
     "output_type": "stream",
     "text": [
      "\u001b[36m(<lambda> pid=26560)\u001b[0m Average MSE: 152.8873344286403 +/- 149.40513110066524\u001b[32m [repeated 10x across cluster]\u001b[0m\n"
     ]
    },
    {
     "name": "stderr",
     "output_type": "stream",
     "text": [
      "2023-11-25 20:49:46,150\tINFO tune.py:1047 -- Total run time: 16.75 seconds (16.73 seconds for the tuning loop).\n"
     ]
    },
    {
     "name": "stdout",
     "output_type": "stream",
     "text": [
      "\u001b[36m(<lambda> pid=5816)\u001b[0m Average MSE: 170.37757425768325 +/- 146.40150846844097\u001b[32m [repeated 9x across cluster]\u001b[0m\n"
     ]
    },
    {
     "name": "stderr",
     "output_type": "stream",
     "text": [
      "2023-11-25 20:49:46,568\tINFO tune.py:586 -- [output] This uses the legacy output and progress reporter, as Jupyter notebooks are not supported by the new engine, yet. For more information, please see https://github.com/ray-project/ray/issues/36949\n"
     ]
    },
    {
     "name": "stdout",
     "output_type": "stream",
     "text": [
      "X_train shape: (78, 256)\n",
      "X_test shape: (20, 256)\n",
      "y_train shape: 78\n",
      "y_test shape: 20\n"
     ]
    },
    {
     "data": {
      "text/html": [
       "<div class=\"tuneStatus\">\n",
       "  <div style=\"display: flex;flex-direction: row\">\n",
       "    <div style=\"display: flex;flex-direction: column;\">\n",
       "      <h3>Tune Status</h3>\n",
       "      <table>\n",
       "<tbody>\n",
       "<tr><td>Current time:</td><td>2023-11-25 20:50:01</td></tr>\n",
       "<tr><td>Running for: </td><td>00:00:15.25        </td></tr>\n",
       "<tr><td>Memory:      </td><td>14.9/63.9 GiB      </td></tr>\n",
       "</tbody>\n",
       "</table>\n",
       "    </div>\n",
       "    <div class=\"vDivider\"></div>\n",
       "    <div class=\"systemInfo\">\n",
       "      <h3>System Info</h3>\n",
       "      Using HyperBand: num_stopped=0 total_brackets=2<br>Round #0:<br>  Bracket(Max Size (n)=5, Milestone (r)=81, completed=1.0%): {RUNNING: 1, TERMINATED: 4} <br>  Bracket(Max Size (n)=8, Milestone (r)=27, completed=0.5%): {RUNNING: 3, TERMINATED: 2} <br>Logical resource usage: 4.0/16 CPUs, 0/1 GPUs\n",
       "    </div>\n",
       "    \n",
       "  </div>\n",
       "  <div class=\"hDivider\"></div>\n",
       "  <div class=\"trialStatus\">\n",
       "    <h3>Trial Status</h3>\n",
       "    <table>\n",
       "<thead>\n",
       "<tr><th>Trial name        </th><th>status    </th><th>loc            </th><th style=\"text-align: right;\">  max_depth</th><th style=\"text-align: right;\">  min_samples_leaf</th><th style=\"text-align: right;\">  min_samples_split</th><th>model_type   </th><th style=\"text-align: right;\">  n_estimators</th><th style=\"text-align: right;\">  iter</th><th style=\"text-align: right;\">  total time (s)</th><th style=\"text-align: right;\">  mean_squared_error</th></tr>\n",
       "</thead>\n",
       "<tbody>\n",
       "<tr><td>lambda_13d4b_00002</td><td>RUNNING   </td><td>127.0.0.1:11428</td><td style=\"text-align: right;\">         20</td><td style=\"text-align: right;\">                 1</td><td style=\"text-align: right;\">                  2</td><td>random_forest</td><td style=\"text-align: right;\">           300</td><td style=\"text-align: right;\">      </td><td style=\"text-align: right;\">                </td><td style=\"text-align: right;\">                    </td></tr>\n",
       "<tr><td>lambda_13d4b_00005</td><td>RUNNING   </td><td>127.0.0.1:27172</td><td style=\"text-align: right;\">         20</td><td style=\"text-align: right;\">                 1</td><td style=\"text-align: right;\">                  2</td><td>random_forest</td><td style=\"text-align: right;\">           300</td><td style=\"text-align: right;\">      </td><td style=\"text-align: right;\">                </td><td style=\"text-align: right;\">                    </td></tr>\n",
       "<tr><td>lambda_13d4b_00006</td><td>RUNNING   </td><td>127.0.0.1:6108 </td><td style=\"text-align: right;\">         10</td><td style=\"text-align: right;\">                 1</td><td style=\"text-align: right;\">                  2</td><td>random_forest</td><td style=\"text-align: right;\">           300</td><td style=\"text-align: right;\">      </td><td style=\"text-align: right;\">                </td><td style=\"text-align: right;\">                    </td></tr>\n",
       "<tr><td>lambda_13d4b_00008</td><td>RUNNING   </td><td>127.0.0.1:26892</td><td style=\"text-align: right;\">         30</td><td style=\"text-align: right;\">                 1</td><td style=\"text-align: right;\">                  5</td><td>random_forest</td><td style=\"text-align: right;\">           300</td><td style=\"text-align: right;\">      </td><td style=\"text-align: right;\">                </td><td style=\"text-align: right;\">                    </td></tr>\n",
       "<tr><td>lambda_13d4b_00000</td><td>TERMINATED</td><td>127.0.0.1:34652</td><td style=\"text-align: right;\">         10</td><td style=\"text-align: right;\">                 4</td><td style=\"text-align: right;\">                 10</td><td>random_forest</td><td style=\"text-align: right;\">           300</td><td style=\"text-align: right;\">     1</td><td style=\"text-align: right;\">           5.204</td><td style=\"text-align: right;\">             165.168</td></tr>\n",
       "<tr><td>lambda_13d4b_00001</td><td>TERMINATED</td><td>127.0.0.1:31720</td><td style=\"text-align: right;\">         30</td><td style=\"text-align: right;\">                 2</td><td style=\"text-align: right;\">                  2</td><td>random_forest</td><td style=\"text-align: right;\">           200</td><td style=\"text-align: right;\">     1</td><td style=\"text-align: right;\">           5.537</td><td style=\"text-align: right;\">             163.384</td></tr>\n",
       "<tr><td>lambda_13d4b_00003</td><td>TERMINATED</td><td>127.0.0.1:24988</td><td style=\"text-align: right;\">         10</td><td style=\"text-align: right;\">                 2</td><td style=\"text-align: right;\">                  2</td><td>random_forest</td><td style=\"text-align: right;\">           100</td><td style=\"text-align: right;\">     1</td><td style=\"text-align: right;\">           3.037</td><td style=\"text-align: right;\">             162.571</td></tr>\n",
       "<tr><td>lambda_13d4b_00004</td><td>TERMINATED</td><td>127.0.0.1:25964</td><td style=\"text-align: right;\">         20</td><td style=\"text-align: right;\">                 1</td><td style=\"text-align: right;\">                  2</td><td>random_forest</td><td style=\"text-align: right;\">           100</td><td style=\"text-align: right;\">     1</td><td style=\"text-align: right;\">           4.235</td><td style=\"text-align: right;\">             157.338</td></tr>\n",
       "<tr><td>lambda_13d4b_00007</td><td>TERMINATED</td><td>127.0.0.1:20124</td><td style=\"text-align: right;\">         20</td><td style=\"text-align: right;\">                 1</td><td style=\"text-align: right;\">                 10</td><td>random_forest</td><td style=\"text-align: right;\">           100</td><td style=\"text-align: right;\">     1</td><td style=\"text-align: right;\">           2.764</td><td style=\"text-align: right;\">             153.914</td></tr>\n",
       "<tr><td>lambda_13d4b_00009</td><td>TERMINATED</td><td>127.0.0.1:23336</td><td style=\"text-align: right;\">         30</td><td style=\"text-align: right;\">                 4</td><td style=\"text-align: right;\">                  5</td><td>random_forest</td><td style=\"text-align: right;\">           200</td><td style=\"text-align: right;\">     1</td><td style=\"text-align: right;\">           3.89 </td><td style=\"text-align: right;\">             165.021</td></tr>\n",
       "</tbody>\n",
       "</table>\n",
       "  </div>\n",
       "</div>\n",
       "<style>\n",
       ".tuneStatus {\n",
       "  color: var(--jp-ui-font-color1);\n",
       "}\n",
       ".tuneStatus .systemInfo {\n",
       "  display: flex;\n",
       "  flex-direction: column;\n",
       "}\n",
       ".tuneStatus td {\n",
       "  white-space: nowrap;\n",
       "}\n",
       ".tuneStatus .trialStatus {\n",
       "  display: flex;\n",
       "  flex-direction: column;\n",
       "}\n",
       ".tuneStatus h3 {\n",
       "  font-weight: bold;\n",
       "}\n",
       ".tuneStatus .hDivider {\n",
       "  border-bottom-width: var(--jp-border-width);\n",
       "  border-bottom-color: var(--jp-border-color0);\n",
       "  border-bottom-style: solid;\n",
       "}\n",
       ".tuneStatus .vDivider {\n",
       "  border-left-width: var(--jp-border-width);\n",
       "  border-left-color: var(--jp-border-color0);\n",
       "  border-left-style: solid;\n",
       "  margin: 0.5em 1em 0.5em 1em;\n",
       "}\n",
       "</style>\n"
      ],
      "text/plain": [
       "<IPython.core.display.HTML object>"
      ]
     },
     "metadata": {},
     "output_type": "display_data"
    },
    {
     "data": {
      "text/html": [
       "<div class=\"trialProgress\">\n",
       "  <h3>Trial Progress</h3>\n",
       "  <table>\n",
       "<thead>\n",
       "<tr><th>Trial name        </th><th style=\"text-align: right;\">  mean_squared_error</th></tr>\n",
       "</thead>\n",
       "<tbody>\n",
       "<tr><td>lambda_13d4b_00000</td><td style=\"text-align: right;\">             165.168</td></tr>\n",
       "<tr><td>lambda_13d4b_00001</td><td style=\"text-align: right;\">             163.384</td></tr>\n",
       "<tr><td>lambda_13d4b_00003</td><td style=\"text-align: right;\">             162.571</td></tr>\n",
       "<tr><td>lambda_13d4b_00004</td><td style=\"text-align: right;\">             157.338</td></tr>\n",
       "<tr><td>lambda_13d4b_00007</td><td style=\"text-align: right;\">             153.914</td></tr>\n",
       "<tr><td>lambda_13d4b_00009</td><td style=\"text-align: right;\">             165.021</td></tr>\n",
       "</tbody>\n",
       "</table>\n",
       "</div>\n",
       "<style>\n",
       ".trialProgress {\n",
       "  display: flex;\n",
       "  flex-direction: column;\n",
       "  color: var(--jp-ui-font-color1);\n",
       "}\n",
       ".trialProgress h3 {\n",
       "  font-weight: bold;\n",
       "}\n",
       ".trialProgress td {\n",
       "  white-space: nowrap;\n",
       "}\n",
       "</style>\n"
      ],
      "text/plain": [
       "<IPython.core.display.HTML object>"
      ]
     },
     "metadata": {},
     "output_type": "display_data"
    },
    {
     "name": "stdout",
     "output_type": "stream",
     "text": [
      "\u001b[36m(<lambda> pid=20124)\u001b[0m Average MSE: 153.91406363338876 +/- 145.68796259504234\n",
      "\u001b[36m(<lambda> pid=24988)\u001b[0m Average MSE: 162.57139066261024 +/- 150.36131112563322\n"
     ]
    }
   ],
   "source": [
    "from prepare_data import split_patient_samples, extract_data_and_labels, preprocess_data\n",
    "from select_features import forward_feature_selection\n",
    "from train_model import train_model\n",
    "from confidence_interval import bootstrap_confidence_interval\n",
    "from save_model import save_model\n",
    "from mse_with_constant_prediction import calculate_baseline_mse\n",
    "from utils import update_mse_with_confidence_interval\n",
    "from sklearn.metrics import mean_squared_error\n",
    "from visualize_results import residuals_plot, actual_vs_predicted_plot\n",
    "\n",
    "# Model selection\n",
    "model_type = 'random_forest'  # Options: 'cnn', 'lstm', 'cnn_lstm', 'random_forest', 'gradient_boosting'\n",
    "\n",
    "# Load the dataset\n",
    "data_splits = split_patient_samples()\n",
    "\n",
    "# Forward feature selection\n",
    "selected_features, best_overall_config = forward_feature_selection(data_splits, model_type)\n",
    "\n",
    "# Final model training with selected features and best configuration\n",
    "all_data, y = extract_data_and_labels(data_splits, features_to_include=selected_features)\n",
    "X_train, X_test, y_train, y_test = preprocess_data(all_data, y, model_type)\n",
    "final_model = train_model(best_overall_config, X_train, y_train)\n",
    "\n",
    "# Save the final model\n",
    "save_model(final_model, model_type)\n",
    "\n",
    "# Eventually, load the saved model\n",
    "\n",
    "# Generate predictions\n",
    "y_pred = final_model.predict(X_test)\n",
    "\n",
    "# Calculate MSE and baseline MSE for comparison\n",
    "mse = mean_squared_error(y_test, y_pred)\n",
    "baseline_mse = calculate_baseline_mse(y_train, y_test)\n",
    "\n",
    "# Bootstrap confidence interval for the MSE\n",
    "mse_ci = bootstrap_confidence_interval(final_model, X_test, y_test)\n",
    "\n",
    "# Print the baseline MSE, MSE, and MSE confidence interval\n",
    "print(f\"Baseline MSE (predicting mean): {baseline_mse}\")\n",
    "print(f'MSE: {mse}')\n",
    "print(f'MSE confidence interval: {mse_ci}')\n",
    "\n",
    "# Save the results to a CSV file\n",
    "update_mse_with_confidence_interval(model_type, mse, mse_ci)\n",
    "\n",
    "# Visualization of the results\n",
    "residuals_plot(y_test, y_pred, model_type)\n",
    "actual_vs_predicted_plot(y_test, y_pred, model_type)"
   ]
  }
 ],
 "metadata": {
  "kernelspec": {
   "display_name": "Python 3",
   "language": "python",
   "name": "python3"
  },
  "language_info": {
   "codemirror_mode": {
    "name": "ipython",
    "version": 3
   },
   "file_extension": ".py",
   "mimetype": "text/x-python",
   "name": "python",
   "nbconvert_exporter": "python",
   "pygments_lexer": "ipython3",
   "version": "3.9.18"
  }
 },
 "nbformat": 4,
 "nbformat_minor": 2
}
